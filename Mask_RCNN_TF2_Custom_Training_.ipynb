{
  "cells": [
    {
      "cell_type": "markdown",
      "metadata": {
        "id": "view-in-github",
        "colab_type": "text"
      },
      "source": [
        "<a href=\"https://colab.research.google.com/github/medixbot-ai/CBC-Mask-RCNN/blob/main/Mask_RCNN_TF2_Custom_Training_.ipynb\" target=\"_parent\"><img src=\"https://colab.research.google.com/assets/colab-badge.svg\" alt=\"Open In Colab\"/></a>"
      ]
    },
    {
      "cell_type": "markdown",
      "metadata": {
        "id": "BBTw6czeX3wY"
      },
      "source": [
        "# Train Mask-RCNN Model on Custom Data"
      ]
    },
    {
      "cell_type": "markdown",
      "metadata": {
        "id": "BqFSM_BTX3wb"
      },
      "source": [
        "## 0. Install Required Libraries"
      ]
    },
    {
      "cell_type": "code",
      "execution_count": 1,
      "metadata": {
        "id": "nB_Io8UmZfys"
      },
      "outputs": [],
      "source": [
        "!pip3 install scipy>=1.5.0\n",
        "!pip3 install flatbuffers>=1.12\n",
        "!pip3 install keras>=2.9.0\n",
        "!pip3 install tensorboard>=2.9.1\n",
        "!pip3 install tensorflow-estimator>=2.9.1\n"
      ]
    },
    {
      "cell_type": "code",
      "execution_count": 3,
      "metadata": {
        "colab": {
          "base_uri": "https://localhost:8080/"
        },
        "id": "6HthK0ZgX3wc",
        "outputId": "5a1a631a-a9d2-4473-8d1b-547d993338d3"
      },
      "outputs": [
        {
          "output_type": "stream",
          "name": "stdout",
          "text": [
            "\r0% [Working]\r            \rHit:1 http://archive.ubuntu.com/ubuntu bionic InRelease\n",
            "\r0% [Waiting for headers] [Waiting for headers] [Waiting for headers] [Waiting f\r                                                                               \rHit:2 https://cloud.r-project.org/bin/linux/ubuntu bionic-cran40/ InRelease\n",
            "\r0% [Waiting for headers] [Waiting for headers] [Waiting for headers] [Connectin\r0% [1 InRelease gpgv 242 kB] [Waiting for headers] [Waiting for headers] [Waiti\r                                                                               \rHit:3 http://archive.ubuntu.com/ubuntu bionic-updates InRelease\n",
            "\r0% [1 InRelease gpgv 242 kB] [Waiting for headers] [Waiting for headers] [Waiti\r                                                                               \rHit:4 http://archive.ubuntu.com/ubuntu bionic-backports InRelease\n",
            "\r0% [1 InRelease gpgv 242 kB] [Waiting for headers] [Waiting for headers] [Waiti\r                                                                               \rHit:5 http://security.ubuntu.com/ubuntu bionic-security InRelease\n",
            "\r                                                                               \r0% [1 InRelease gpgv 242 kB] [Waiting for headers] [Waiting for headers]\r                                                                        \rIgn:6 https://developer.download.nvidia.com/compute/machine-learning/repos/ubuntu1804/x86_64  InRelease\n",
            "\r0% [1 InRelease gpgv 242 kB] [Waiting for headers] [Waiting for headers]\r                                                                        \rHit:7 https://developer.download.nvidia.com/compute/cuda/repos/ubuntu1804/x86_64  InRelease\n",
            "\r                                                                        \r0% [1 InRelease gpgv 242 kB] [Waiting for headers]\r                                                  \rHit:8 http://ppa.launchpad.net/c2d4u.team/c2d4u4.0+/ubuntu bionic InRelease\n",
            "Hit:9 https://developer.download.nvidia.com/compute/machine-learning/repos/ubuntu1804/x86_64  Release\n",
            "Hit:10 http://ppa.launchpad.net/cran/libgit2/ubuntu bionic InRelease\n",
            "Hit:11 http://ppa.launchpad.net/deadsnakes/ppa/ubuntu bionic InRelease\n",
            "Hit:12 http://ppa.launchpad.net/graphics-drivers/ppa/ubuntu bionic InRelease\n",
            "Reading package lists... Done\n",
            "Looking in indexes: https://pypi.org/simple, https://us-python.pkg.dev/colab-wheels/public/simple/\n",
            "Requirement already satisfied: scikit-image==0.16.2 in /usr/local/lib/python3.8/dist-packages (0.16.2)\n",
            "Requirement already satisfied: PyWavelets>=0.4.0 in /usr/local/lib/python3.8/dist-packages (from scikit-image==0.16.2) (1.4.1)\n",
            "Requirement already satisfied: imageio>=2.3.0 in /usr/local/lib/python3.8/dist-packages (from scikit-image==0.16.2) (2.9.0)\n",
            "Requirement already satisfied: scipy>=0.19.0 in /usr/local/lib/python3.8/dist-packages (from scikit-image==0.16.2) (1.4.1)\n",
            "Requirement already satisfied: pillow>=4.3.0 in /usr/local/lib/python3.8/dist-packages (from scikit-image==0.16.2) (7.1.2)\n",
            "Requirement already satisfied: matplotlib!=3.0.0,>=2.0.0 in /usr/local/lib/python3.8/dist-packages (from scikit-image==0.16.2) (3.2.2)\n",
            "Requirement already satisfied: networkx>=2.0 in /usr/local/lib/python3.8/dist-packages (from scikit-image==0.16.2) (2.8.8)\n",
            "Requirement already satisfied: numpy in /usr/local/lib/python3.8/dist-packages (from imageio>=2.3.0->scikit-image==0.16.2) (1.21.6)\n",
            "Requirement already satisfied: kiwisolver>=1.0.1 in /usr/local/lib/python3.8/dist-packages (from matplotlib!=3.0.0,>=2.0.0->scikit-image==0.16.2) (1.4.4)\n",
            "Requirement already satisfied: pyparsing!=2.0.4,!=2.1.2,!=2.1.6,>=2.0.1 in /usr/local/lib/python3.8/dist-packages (from matplotlib!=3.0.0,>=2.0.0->scikit-image==0.16.2) (3.0.9)\n",
            "Requirement already satisfied: python-dateutil>=2.1 in /usr/local/lib/python3.8/dist-packages (from matplotlib!=3.0.0,>=2.0.0->scikit-image==0.16.2) (2.8.2)\n",
            "Requirement already satisfied: cycler>=0.10 in /usr/local/lib/python3.8/dist-packages (from matplotlib!=3.0.0,>=2.0.0->scikit-image==0.16.2) (0.11.0)\n",
            "Requirement already satisfied: six>=1.5 in /usr/local/lib/python3.8/dist-packages (from python-dateutil>=2.1->matplotlib!=3.0.0,>=2.0.0->scikit-image==0.16.2) (1.15.0)\n",
            "Looking in indexes: https://pypi.org/simple, https://us-python.pkg.dev/colab-wheels/public/simple/\n",
            "Requirement already satisfied: opencv-python in /usr/local/lib/python3.8/dist-packages (4.6.0.66)\n",
            "Requirement already satisfied: numpy>=1.14.5 in /usr/local/lib/python3.8/dist-packages (from opencv-python) (1.21.6)\n",
            "Looking in indexes: https://pypi.org/simple, https://us-python.pkg.dev/colab-wheels/public/simple/\n",
            "Requirement already satisfied: tensorflow==2.2.0 in /usr/local/lib/python3.8/dist-packages (2.2.0)\n",
            "Requirement already satisfied: opt-einsum>=2.3.2 in /usr/local/lib/python3.8/dist-packages (from tensorflow==2.2.0) (3.3.0)\n",
            "Requirement already satisfied: tensorflow-estimator<2.3.0,>=2.2.0 in /usr/local/lib/python3.8/dist-packages (from tensorflow==2.2.0) (2.2.0)\n",
            "Requirement already satisfied: protobuf>=3.8.0 in /usr/local/lib/python3.8/dist-packages (from tensorflow==2.2.0) (3.19.6)\n",
            "Requirement already satisfied: h5py<2.11.0,>=2.10.0 in /usr/local/lib/python3.8/dist-packages (from tensorflow==2.2.0) (2.10.0)\n",
            "Requirement already satisfied: astunparse==1.6.3 in /usr/local/lib/python3.8/dist-packages (from tensorflow==2.2.0) (1.6.3)\n",
            "Requirement already satisfied: six>=1.12.0 in /usr/local/lib/python3.8/dist-packages (from tensorflow==2.2.0) (1.15.0)\n",
            "Requirement already satisfied: gast==0.3.3 in /usr/local/lib/python3.8/dist-packages (from tensorflow==2.2.0) (0.3.3)\n",
            "Requirement already satisfied: termcolor>=1.1.0 in /usr/local/lib/python3.8/dist-packages (from tensorflow==2.2.0) (2.1.1)\n",
            "Requirement already satisfied: numpy<2.0,>=1.16.0 in /usr/local/lib/python3.8/dist-packages (from tensorflow==2.2.0) (1.21.6)\n",
            "Requirement already satisfied: wrapt>=1.11.1 in /usr/local/lib/python3.8/dist-packages (from tensorflow==2.2.0) (1.14.1)\n",
            "Requirement already satisfied: absl-py>=0.7.0 in /usr/local/lib/python3.8/dist-packages (from tensorflow==2.2.0) (1.3.0)\n",
            "Requirement already satisfied: wheel>=0.26 in /usr/local/lib/python3.8/dist-packages (from tensorflow==2.2.0) (0.38.4)\n",
            "Requirement already satisfied: google-pasta>=0.1.8 in /usr/local/lib/python3.8/dist-packages (from tensorflow==2.2.0) (0.2.0)\n",
            "Requirement already satisfied: scipy==1.4.1 in /usr/local/lib/python3.8/dist-packages (from tensorflow==2.2.0) (1.4.1)\n",
            "Requirement already satisfied: tensorboard<2.3.0,>=2.2.0 in /usr/local/lib/python3.8/dist-packages (from tensorflow==2.2.0) (2.2.2)\n",
            "Requirement already satisfied: grpcio>=1.8.6 in /usr/local/lib/python3.8/dist-packages (from tensorflow==2.2.0) (1.51.1)\n",
            "Requirement already satisfied: keras-preprocessing>=1.1.0 in /usr/local/lib/python3.8/dist-packages (from tensorflow==2.2.0) (1.1.2)\n",
            "Requirement already satisfied: google-auth<2,>=1.6.3 in /usr/local/lib/python3.8/dist-packages (from tensorboard<2.3.0,>=2.2.0->tensorflow==2.2.0) (1.35.0)\n",
            "Requirement already satisfied: werkzeug>=0.11.15 in /usr/local/lib/python3.8/dist-packages (from tensorboard<2.3.0,>=2.2.0->tensorflow==2.2.0) (1.0.1)\n",
            "Requirement already satisfied: tensorboard-plugin-wit>=1.6.0 in /usr/local/lib/python3.8/dist-packages (from tensorboard<2.3.0,>=2.2.0->tensorflow==2.2.0) (1.8.1)\n",
            "Requirement already satisfied: requests<3,>=2.21.0 in /usr/local/lib/python3.8/dist-packages (from tensorboard<2.3.0,>=2.2.0->tensorflow==2.2.0) (2.25.1)\n",
            "Requirement already satisfied: google-auth-oauthlib<0.5,>=0.4.1 in /usr/local/lib/python3.8/dist-packages (from tensorboard<2.3.0,>=2.2.0->tensorflow==2.2.0) (0.4.6)\n",
            "Requirement already satisfied: setuptools>=41.0.0 in /usr/local/lib/python3.8/dist-packages (from tensorboard<2.3.0,>=2.2.0->tensorflow==2.2.0) (57.4.0)\n",
            "Requirement already satisfied: markdown>=2.6.8 in /usr/local/lib/python3.8/dist-packages (from tensorboard<2.3.0,>=2.2.0->tensorflow==2.2.0) (3.4.1)\n",
            "Requirement already satisfied: rsa<5,>=3.1.4 in /usr/local/lib/python3.8/dist-packages (from google-auth<2,>=1.6.3->tensorboard<2.3.0,>=2.2.0->tensorflow==2.2.0) (4.9)\n",
            "Requirement already satisfied: pyasn1-modules>=0.2.1 in /usr/local/lib/python3.8/dist-packages (from google-auth<2,>=1.6.3->tensorboard<2.3.0,>=2.2.0->tensorflow==2.2.0) (0.2.8)\n",
            "Requirement already satisfied: cachetools<5.0,>=2.0.0 in /usr/local/lib/python3.8/dist-packages (from google-auth<2,>=1.6.3->tensorboard<2.3.0,>=2.2.0->tensorflow==2.2.0) (4.2.4)\n",
            "Requirement already satisfied: requests-oauthlib>=0.7.0 in /usr/local/lib/python3.8/dist-packages (from google-auth-oauthlib<0.5,>=0.4.1->tensorboard<2.3.0,>=2.2.0->tensorflow==2.2.0) (1.3.1)\n",
            "Requirement already satisfied: importlib-metadata>=4.4 in /usr/local/lib/python3.8/dist-packages (from markdown>=2.6.8->tensorboard<2.3.0,>=2.2.0->tensorflow==2.2.0) (5.2.0)\n",
            "Requirement already satisfied: idna<3,>=2.5 in /usr/local/lib/python3.8/dist-packages (from requests<3,>=2.21.0->tensorboard<2.3.0,>=2.2.0->tensorflow==2.2.0) (2.10)\n",
            "Requirement already satisfied: chardet<5,>=3.0.2 in /usr/local/lib/python3.8/dist-packages (from requests<3,>=2.21.0->tensorboard<2.3.0,>=2.2.0->tensorflow==2.2.0) (4.0.0)\n",
            "Requirement already satisfied: certifi>=2017.4.17 in /usr/local/lib/python3.8/dist-packages (from requests<3,>=2.21.0->tensorboard<2.3.0,>=2.2.0->tensorflow==2.2.0) (2022.12.7)\n",
            "Requirement already satisfied: urllib3<1.27,>=1.21.1 in /usr/local/lib/python3.8/dist-packages (from requests<3,>=2.21.0->tensorboard<2.3.0,>=2.2.0->tensorflow==2.2.0) (1.24.3)\n",
            "Requirement already satisfied: zipp>=0.5 in /usr/local/lib/python3.8/dist-packages (from importlib-metadata>=4.4->markdown>=2.6.8->tensorboard<2.3.0,>=2.2.0->tensorflow==2.2.0) (3.11.0)\n",
            "Requirement already satisfied: pyasn1<0.5.0,>=0.4.6 in /usr/local/lib/python3.8/dist-packages (from pyasn1-modules>=0.2.1->google-auth<2,>=1.6.3->tensorboard<2.3.0,>=2.2.0->tensorflow==2.2.0) (0.4.8)\n",
            "Requirement already satisfied: oauthlib>=3.0.0 in /usr/local/lib/python3.8/dist-packages (from requests-oauthlib>=0.7.0->google-auth-oauthlib<0.5,>=0.4.1->tensorboard<2.3.0,>=2.2.0->tensorflow==2.2.0) (3.2.2)\n",
            "Looking in indexes: https://pypi.org/simple, https://us-python.pkg.dev/colab-wheels/public/simple/\n",
            "Requirement already satisfied: keras==2.3.1 in /usr/local/lib/python3.8/dist-packages (2.3.1)\n",
            "Requirement already satisfied: h5py in /usr/local/lib/python3.8/dist-packages (from keras==2.3.1) (2.10.0)\n",
            "Requirement already satisfied: numpy>=1.9.1 in /usr/local/lib/python3.8/dist-packages (from keras==2.3.1) (1.21.6)\n",
            "Requirement already satisfied: six>=1.9.0 in /usr/local/lib/python3.8/dist-packages (from keras==2.3.1) (1.15.0)\n",
            "Requirement already satisfied: pyyaml in /usr/local/lib/python3.8/dist-packages (from keras==2.3.1) (6.0)\n",
            "Requirement already satisfied: keras-preprocessing>=1.0.5 in /usr/local/lib/python3.8/dist-packages (from keras==2.3.1) (1.1.2)\n",
            "Requirement already satisfied: scipy>=0.14 in /usr/local/lib/python3.8/dist-packages (from keras==2.3.1) (1.4.1)\n",
            "Requirement already satisfied: keras-applications>=1.0.6 in /usr/local/lib/python3.8/dist-packages (from keras==2.3.1) (1.0.8)\n"
          ]
        }
      ],
      "source": [
        "!apt-get update\n",
        "!pip3 install scikit-image==0.16.2\n",
        "!pip3 install opencv-python\n",
        "!pip3 install tensorflow==2.2.0\n",
        "!pip3 install keras==2.3.1"
      ]
    },
    {
      "cell_type": "markdown",
      "metadata": {
        "id": "gaxdh2nJX3wc"
      },
      "source": [
        "### Verify the Version of the Installed Libraries"
      ]
    },
    {
      "cell_type": "code",
      "execution_count": 4,
      "metadata": {
        "colab": {
          "base_uri": "https://localhost:8080/"
        },
        "id": "biWb6hhIX3wd",
        "outputId": "535209b8-1aa5-47ad-cafa-a6aba1c5f001"
      },
      "outputs": [
        {
          "output_type": "stream",
          "name": "stdout",
          "text": [
            "2.2.0\n",
            "2.3.1\n",
            "0.16.2\n"
          ]
        },
        {
          "output_type": "stream",
          "name": "stderr",
          "text": [
            "Using TensorFlow backend.\n"
          ]
        }
      ],
      "source": [
        "import tensorflow\n",
        "import keras\n",
        "import skimage\n",
        "\n",
        "print(tensorflow.__version__)\n",
        "print(keras.__version__)\n",
        "print(skimage.__version__)"
      ]
    },
    {
      "cell_type": "markdown",
      "metadata": {
        "id": "9q-CNIw2X3wd"
      },
      "source": [
        "## 1. Prepare GitHub Project\n",
        "The first step is to clone the project from GitHub: https://github.com/ahmedfgad/Mask-RCNN-TF2"
      ]
    },
    {
      "cell_type": "code",
      "execution_count": 5,
      "metadata": {
        "colab": {
          "base_uri": "https://localhost:8080/"
        },
        "id": "ZFWNTIMvX3we",
        "outputId": "73dd537a-6547-4ec5-9aa7-3a3529d0e389"
      },
      "outputs": [
        {
          "output_type": "stream",
          "name": "stdout",
          "text": [
            "Cloning into 'Mask-RCNN-TF2'...\n",
            "remote: Enumerating objects: 1440, done.\u001b[K\n",
            "remote: Total 1440 (delta 0), reused 0 (delta 0), pack-reused 1440\u001b[K\n",
            "Receiving objects: 100% (1440/1440), 156.99 MiB | 29.03 MiB/s, done.\n",
            "Resolving deltas: 100% (796/796), done.\n"
          ]
        }
      ],
      "source": [
        "!git clone 'https://github.com/ahmedfgad/Mask-RCNN-TF2.git'"
      ]
    },
    {
      "cell_type": "code",
      "execution_count": 6,
      "metadata": {
        "id": "3n7jvBjywuT7"
      },
      "outputs": [],
      "source": [
        "#!git clone 'https://github.com/Shenggan/BCCD_Dataset.git' # load new data set and annotations  \n"
      ]
    },
    {
      "cell_type": "code",
      "execution_count": 7,
      "metadata": {
        "id": "75GZV8f4yAqG",
        "colab": {
          "base_uri": "https://localhost:8080/"
        },
        "outputId": "97ed8d36-ef7d-4fce-f9b8-9d5f9be3dbc9"
      },
      "outputs": [
        {
          "output_type": "stream",
          "name": "stdout",
          "text": [
            "Mounted at /content/drive\n"
          ]
        }
      ],
      "source": [
        "from google.colab import drive\n",
        "drive.mount('/content/drive')"
      ]
    },
    {
      "cell_type": "markdown",
      "metadata": {
        "id": "r5UboaxHX3we"
      },
      "source": [
        "### 1.1) View the Contents of the Project.\n",
        "There are 2 important directories in the project:\n",
        "1. `mrcnn`: Contains the Python code for loading and training the model.\n",
        "2. `BCCD_Dataset`: Contains the custom data."
      ]
    },
    {
      "cell_type": "code",
      "execution_count": 8,
      "metadata": {
        "colab": {
          "base_uri": "https://localhost:8080/"
        },
        "id": "TWDvdNOiX3wf",
        "outputId": "d269a1bb-243a-428c-b73a-d7c5ba466a60",
        "scrolled": true
      },
      "outputs": [
        {
          "output_type": "stream",
          "name": "stdout",
          "text": [
            "assets\t\t\t      maskrcnn_predict_directed_RPN.py\tsamples\n",
            "images\t\t\t      maskrcnn_predict.py\t\tsetup.cfg\n",
            "kangaroo-transfer-learning    mrcnn\t\t\t\tsetup.py\n",
            "LICENSE\t\t\t      mrcnn_directed\t\t\ttest.jpg\n",
            "MANIFEST.in\t\t      README.md\n",
            "maskrcnn_predict_directed.py  requirements.txt\n"
          ]
        }
      ],
      "source": [
        "!ls /content/Mask-RCNN-TF2"
      ]
    },
    {
      "cell_type": "markdown",
      "metadata": {
        "id": "uCem3BrbX3wf"
      },
      "source": [
        "### 1.2) View the contents of the `BCCD_Dataset` Directory.\n",
        "The `BCCD_Dataset` directory has a folder called `BCCD` with the dataset images and their annotations."
      ]
    },
    {
      "cell_type": "code",
      "execution_count": 9,
      "metadata": {
        "colab": {
          "base_uri": "https://localhost:8080/"
        },
        "id": "DdmMR0teX3wg",
        "outputId": "a5a03257-9270-40a0-8910-929bce572094"
      },
      "outputs": [
        {
          "output_type": "stream",
          "name": "stdout",
          "text": [
            "BCCD\t example.jpg  LICENSE  README.md  test.csv\n",
            "dataset  export.py    plot.py  scripts\n"
          ]
        }
      ],
      "source": [
        "!ls /content/drive/MyDrive/BCCD_Dataset"
      ]
    },
    {
      "cell_type": "markdown",
      "metadata": {
        "id": "z7LUL_63X3wg"
      },
      "source": [
        "### 1.3) Go Inside the `BCCD` Directory.\n",
        "The `kangaroo` directory has 2 folders:\n",
        "1. `JPEGimages`: The dataset images.\n",
        "2. `Annotations`: The annotations of the images in `xml` format."
      ]
    },
    {
      "cell_type": "code",
      "execution_count": 10,
      "metadata": {
        "colab": {
          "base_uri": "https://localhost:8080/"
        },
        "id": "O8iTLoBaX3wh",
        "outputId": "1a233e64-1293-455a-c54b-11fa2f609516"
      },
      "outputs": [
        {
          "output_type": "stream",
          "name": "stdout",
          "text": [
            "/content/drive/MyDrive/BCCD_Dataset/BCCD\n",
            "Annotations  ImageSets\tJPEGImages  Mask-RCNN-TF2\n"
          ]
        }
      ],
      "source": [
        "%cd /content/drive/MyDrive/BCCD_Dataset/BCCD\n",
        "!ls"
      ]
    },
    {
      "cell_type": "markdown",
      "metadata": {
        "id": "9TGXE8akX3wh"
      },
      "source": [
        "### 1.4) List the Images in the `JPEGImages` Directory.\n",
        "The dataset has **364** images."
      ]
    },
    {
      "cell_type": "code",
      "execution_count": 11,
      "metadata": {
        "id": "4X0J9nEQ-n6M",
        "colab": {
          "base_uri": "https://localhost:8080/",
          "height": 91
        },
        "outputId": "87f8f1da-a03f-46fd-e830-c04a5505186b"
      },
      "outputs": [
        {
          "output_type": "execute_result",
          "data": {
            "text/plain": [
              "\"\\nimport os\\n\\nimages_dir = '/content/Mask-RCNN-TF2/BCCD_Dataset/BCCD/BCCD_Dataset/BCCD/JPEGImages'\\nannot_dir = '/content/Mask-RCNN-TF2/BCCD_Dataset/BCCD/BCCD_Dataset/BCCD/Annotations'\\n\\npath = images_dir\\nfiles = os.listdir(path)\\nfor index, file in enumerate(files):\\n  os.rename(os.path.join(path, file), os.path.join(path, ''.join([str(index+1), '.jpg'])))\\n   \\npath = annot_dir\\nfiles = os.listdir(path)\\n\\nfor index, file in enumerate(files):\\n  os.rename(os.path.join(path, file), os.path.join(path, ''.join([str(index+1), '.xml'])))\\n\\n\""
            ],
            "application/vnd.google.colaboratory.intrinsic+json": {
              "type": "string"
            }
          },
          "metadata": {},
          "execution_count": 11
        }
      ],
      "source": [
        "\"\"\"\n",
        "Rename all files in a folder to numbers\n",
        "\"\"\"\n",
        "\n",
        "\"\"\"\n",
        "import os\n",
        "\n",
        "images_dir = '/content/Mask-RCNN-TF2/BCCD_Dataset/BCCD/BCCD_Dataset/BCCD/JPEGImages'\n",
        "annot_dir = '/content/Mask-RCNN-TF2/BCCD_Dataset/BCCD/BCCD_Dataset/BCCD/Annotations'\n",
        "\n",
        "path = images_dir\n",
        "files = os.listdir(path)\n",
        "for index, file in enumerate(files):\n",
        "  os.rename(os.path.join(path, file), os.path.join(path, ''.join([str(index+1), '.jpg'])))\n",
        "   \n",
        "path = annot_dir\n",
        "files = os.listdir(path)\n",
        "\n",
        "for index, file in enumerate(files):\n",
        "  os.rename(os.path.join(path, file), os.path.join(path, ''.join([str(index+1), '.xml'])))\n",
        "\n",
        "\"\"\""
      ]
    },
    {
      "cell_type": "code",
      "execution_count": 12,
      "metadata": {
        "colab": {
          "base_uri": "https://localhost:8080/"
        },
        "id": "XX5rl2A2X3wi",
        "outputId": "607f70d3-83af-49b4-db22-43573944e116"
      },
      "outputs": [
        {
          "output_type": "stream",
          "name": "stdout",
          "text": [
            "100.jpg  138.jpg  175.jpg  211.jpg  249.jpg  286.jpg  322.jpg  35.jpg\t68.jpg\n",
            "101.jpg  139.jpg  176.jpg  212.jpg  24.jpg   287.jpg  323.jpg  360.jpg\t69.jpg\n",
            "102.jpg  13.jpg   177.jpg  213.jpg  250.jpg  288.jpg  324.jpg  361.jpg\t6.jpg\n",
            "103.jpg  140.jpg  178.jpg  214.jpg  251.jpg  289.jpg  325.jpg  362.jpg\t70.jpg\n",
            "104.jpg  141.jpg  179.jpg  215.jpg  252.jpg  28.jpg   326.jpg  363.jpg\t71.jpg\n",
            "105.jpg  142.jpg  17.jpg   216.jpg  253.jpg  290.jpg  327.jpg  364.jpg\t72.jpg\n",
            "106.jpg  143.jpg  180.jpg  217.jpg  254.jpg  291.jpg  328.jpg  36.jpg\t73.jpg\n",
            "107.jpg  144.jpg  181.jpg  218.jpg  255.jpg  292.jpg  329.jpg  37.jpg\t74.jpg\n",
            "108.jpg  145.jpg  182.jpg  219.jpg  256.jpg  293.jpg  32.jpg   38.jpg\t75.jpg\n",
            "109.jpg  146.jpg  183.jpg  21.jpg   257.jpg  294.jpg  330.jpg  39.jpg\t76.jpg\n",
            "10.jpg\t 147.jpg  184.jpg  220.jpg  258.jpg  295.jpg  331.jpg  3.jpg\t77.jpg\n",
            "110.jpg  148.jpg  185.jpg  221.jpg  259.jpg  296.jpg  332.jpg  40.jpg\t78.jpg\n",
            "111.jpg  149.jpg  186.jpg  222.jpg  25.jpg   297.jpg  333.jpg  41.jpg\t79.jpg\n",
            "112.jpg  14.jpg   187.jpg  223.jpg  260.jpg  298.jpg  334.jpg  42.jpg\t7.jpg\n",
            "113.jpg  150.jpg  188.jpg  224.jpg  261.jpg  299.jpg  335.jpg  43.jpg\t80.jpg\n",
            "114.jpg  151.jpg  189.jpg  225.jpg  262.jpg  29.jpg   336.jpg  44.jpg\t81.jpg\n",
            "115.jpg  152.jpg  18.jpg   226.jpg  263.jpg  2.jpg    337.jpg  45.jpg\t82.jpg\n",
            "116.jpg  153.jpg  190.jpg  227.jpg  264.jpg  300.jpg  338.jpg  46.jpg\t83.jpg\n",
            "117.jpg  154.jpg  191.jpg  228.jpg  265.jpg  301.jpg  339.jpg  47.jpg\t84.jpg\n",
            "118.jpg  155.jpg  192.jpg  229.jpg  266.jpg  302.jpg  33.jpg   48.jpg\t85.jpg\n",
            "119.jpg  156.jpg  193.jpg  22.jpg   267.jpg  303.jpg  340.jpg  49.jpg\t86.jpg\n",
            "11.jpg\t 157.jpg  194.jpg  230.jpg  268.jpg  304.jpg  341.jpg  4.jpg\t87.jpg\n",
            "120.jpg  158.jpg  195.jpg  231.jpg  269.jpg  305.jpg  342.jpg  50.jpg\t88.jpg\n",
            "121.jpg  159.jpg  196.jpg  232.jpg  26.jpg   306.jpg  343.jpg  51.jpg\t89.jpg\n",
            "122.jpg  15.jpg   197.jpg  233.jpg  270.jpg  307.jpg  344.jpg  52.jpg\t8.jpg\n",
            "123.jpg  160.jpg  198.jpg  234.jpg  271.jpg  308.jpg  345.jpg  53.jpg\t90.jpg\n",
            "124.jpg  161.jpg  199.jpg  235.jpg  272.jpg  309.jpg  346.jpg  54.jpg\t91.jpg\n",
            "125.jpg  162.jpg  19.jpg   236.jpg  273.jpg  30.jpg   347.jpg  55.jpg\t92.jpg\n",
            "126.jpg  163.jpg  1.jpg    237.jpg  274.jpg  310.jpg  348.jpg  56.jpg\t93.jpg\n",
            "127.jpg  164.jpg  200.jpg  238.jpg  275.jpg  311.jpg  349.jpg  57.jpg\t94.jpg\n",
            "128.jpg  165.jpg  201.jpg  239.jpg  276.jpg  312.jpg  34.jpg   58.jpg\t95.jpg\n",
            "129.jpg  166.jpg  202.jpg  23.jpg   277.jpg  313.jpg  350.jpg  59.jpg\t96.jpg\n",
            "12.jpg\t 167.jpg  203.jpg  240.jpg  278.jpg  314.jpg  351.jpg  5.jpg\t97.jpg\n",
            "130.jpg  168.jpg  204.jpg  241.jpg  279.jpg  315.jpg  352.jpg  60.jpg\t98.jpg\n",
            "131.jpg  169.jpg  205.jpg  242.jpg  27.jpg   316.jpg  353.jpg  61.jpg\t99.jpg\n",
            "132.jpg  16.jpg   206.jpg  243.jpg  280.jpg  317.jpg  354.jpg  62.jpg\t9.jpg\n",
            "133.jpg  170.jpg  207.jpg  244.jpg  281.jpg  318.jpg  355.jpg  63.jpg\n",
            "134.jpg  171.jpg  208.jpg  245.jpg  282.jpg  319.jpg  356.jpg  64.jpg\n",
            "135.jpg  172.jpg  209.jpg  246.jpg  283.jpg  31.jpg   357.jpg  65.jpg\n",
            "136.jpg  173.jpg  20.jpg   247.jpg  284.jpg  320.jpg  358.jpg  66.jpg\n",
            "137.jpg  174.jpg  210.jpg  248.jpg  285.jpg  321.jpg  359.jpg  67.jpg\n",
            "364\n"
          ]
        }
      ],
      "source": [
        "!ls ./JPEGImages\n",
        "!ls ./JPEGImages -l . | egrep -c '^-' # Count the number of files in the directory. "
      ]
    },
    {
      "cell_type": "markdown",
      "metadata": {
        "id": "i7ZUQijmX3wi"
      },
      "source": [
        "### 1.5) Read and Show an Image"
      ]
    },
    {
      "cell_type": "code",
      "execution_count": 13,
      "metadata": {
        "colab": {
          "base_uri": "https://localhost:8080/",
          "height": 269
        },
        "id": "GH0gw3CwX3wj",
        "outputId": "9e7817b1-028b-42e9-964e-09510f93e732"
      },
      "outputs": [
        {
          "output_type": "display_data",
          "data": {
            "text/plain": [
              "<Figure size 432x288 with 1 Axes>"
            ],
            "image/png": "[encoded data removed]"
          },
          "metadata": {
            "needs_background": "light"
          }
        }
      ],
      "source": [
        "import skimage.io\n",
        "import matplotlib.pyplot\n",
        "\n",
        "im_name = \"1\"\n",
        "img = skimage.io.imread(\"./JPEGImages/\" + im_name + \".jpg\")\n",
        "\n",
        "matplotlib.pyplot.imshow(img)\n",
        "matplotlib.pyplot.show()"
      ]
    },
    {
      "cell_type": "markdown",
      "metadata": {
        "id": "JgdJGDutX3wj"
      },
      "source": [
        "### 1.6) List the Files in the `Annotations` Directory.\n",
        "The `annots` directory has **364** `xml` files, one for each image."
      ]
    },
    {
      "cell_type": "code",
      "execution_count": 14,
      "metadata": {
        "colab": {
          "base_uri": "https://localhost:8080/"
        },
        "id": "WKZ_PSQ7X3wk",
        "outputId": "632bc292-f517-4b50-efd2-dd5eb42ce535"
      },
      "outputs": [
        {
          "output_type": "stream",
          "name": "stdout",
          "text": [
            "100.xml  138.xml  175.xml  211.xml  249.xml  286.xml  322.xml  35.xml\t68.xml\n",
            "101.xml  139.xml  176.xml  212.xml  24.xml   287.xml  323.xml  360.xml\t69.xml\n",
            "102.xml  13.xml   177.xml  213.xml  250.xml  288.xml  324.xml  361.xml\t6.xml\n",
            "103.xml  140.xml  178.xml  214.xml  251.xml  289.xml  325.xml  362.xml\t70.xml\n",
            "104.xml  141.xml  179.xml  215.xml  252.xml  28.xml   326.xml  363.xml\t71.xml\n",
            "105.xml  142.xml  17.xml   216.xml  253.xml  290.xml  327.xml  364.xml\t72.xml\n",
            "106.xml  143.xml  180.xml  217.xml  254.xml  291.xml  328.xml  36.xml\t73.xml\n",
            "107.xml  144.xml  181.xml  218.xml  255.xml  292.xml  329.xml  37.xml\t74.xml\n",
            "108.xml  145.xml  182.xml  219.xml  256.xml  293.xml  32.xml   38.xml\t75.xml\n",
            "109.xml  146.xml  183.xml  21.xml   257.xml  294.xml  330.xml  39.xml\t76.xml\n",
            "10.xml\t 147.xml  184.xml  220.xml  258.xml  295.xml  331.xml  3.xml\t77.xml\n",
            "110.xml  148.xml  185.xml  221.xml  259.xml  296.xml  332.xml  40.xml\t78.xml\n",
            "111.xml  149.xml  186.xml  222.xml  25.xml   297.xml  333.xml  41.xml\t79.xml\n",
            "112.xml  14.xml   187.xml  223.xml  260.xml  298.xml  334.xml  42.xml\t7.xml\n",
            "113.xml  150.xml  188.xml  224.xml  261.xml  299.xml  335.xml  43.xml\t80.xml\n",
            "114.xml  151.xml  189.xml  225.xml  262.xml  29.xml   336.xml  44.xml\t81.xml\n",
            "115.xml  152.xml  18.xml   226.xml  263.xml  2.xml    337.xml  45.xml\t82.xml\n",
            "116.xml  153.xml  190.xml  227.xml  264.xml  300.xml  338.xml  46.xml\t83.xml\n",
            "117.xml  154.xml  191.xml  228.xml  265.xml  301.xml  339.xml  47.xml\t84.xml\n",
            "118.xml  155.xml  192.xml  229.xml  266.xml  302.xml  33.xml   48.xml\t85.xml\n",
            "119.xml  156.xml  193.xml  22.xml   267.xml  303.xml  340.xml  49.xml\t86.xml\n",
            "11.xml\t 157.xml  194.xml  230.xml  268.xml  304.xml  341.xml  4.xml\t87.xml\n",
            "120.xml  158.xml  195.xml  231.xml  269.xml  305.xml  342.xml  50.xml\t88.xml\n",
            "121.xml  159.xml  196.xml  232.xml  26.xml   306.xml  343.xml  51.xml\t89.xml\n",
            "122.xml  15.xml   197.xml  233.xml  270.xml  307.xml  344.xml  52.xml\t8.xml\n",
            "123.xml  160.xml  198.xml  234.xml  271.xml  308.xml  345.xml  53.xml\t90.xml\n",
            "124.xml  161.xml  199.xml  235.xml  272.xml  309.xml  346.xml  54.xml\t91.xml\n",
            "125.xml  162.xml  19.xml   236.xml  273.xml  30.xml   347.xml  55.xml\t92.xml\n",
            "126.xml  163.xml  1.xml    237.xml  274.xml  310.xml  348.xml  56.xml\t93.xml\n",
            "127.xml  164.xml  200.xml  238.xml  275.xml  311.xml  349.xml  57.xml\t94.xml\n",
            "128.xml  165.xml  201.xml  239.xml  276.xml  312.xml  34.xml   58.xml\t95.xml\n",
            "129.xml  166.xml  202.xml  23.xml   277.xml  313.xml  350.xml  59.xml\t96.xml\n",
            "12.xml\t 167.xml  203.xml  240.xml  278.xml  314.xml  351.xml  5.xml\t97.xml\n",
            "130.xml  168.xml  204.xml  241.xml  279.xml  315.xml  352.xml  60.xml\t98.xml\n",
            "131.xml  169.xml  205.xml  242.xml  27.xml   316.xml  353.xml  61.xml\t99.xml\n",
            "132.xml  16.xml   206.xml  243.xml  280.xml  317.xml  354.xml  62.xml\t9.xml\n",
            "133.xml  170.xml  207.xml  244.xml  281.xml  318.xml  355.xml  63.xml\n",
            "134.xml  171.xml  208.xml  245.xml  282.xml  319.xml  356.xml  64.xml\n",
            "135.xml  172.xml  209.xml  246.xml  283.xml  31.xml   357.xml  65.xml\n",
            "136.xml  173.xml  20.xml   247.xml  284.xml  320.xml  358.xml  66.xml\n",
            "137.xml  174.xml  210.xml  248.xml  285.xml  321.xml  359.xml  67.xml\n",
            "364\n"
          ]
        }
      ],
      "source": [
        "!ls ./Annotations   \n",
        "!ls ./Annotations -l . | egrep -c '^-' # Count the number of files in the directory. "
      ]
    },
    {
      "cell_type": "markdown",
      "metadata": {
        "id": "Ks1__SdhX3wk"
      },
      "source": [
        "### 1.7) Read an `xml` File\n",
        "The `xml` file has information about the image like:\n",
        "1. Name\n",
        "2. Width\n",
        "3. Height\n",
        "\n",
        "It also has information about each object inside the `bndbox` element. There is a `bndbox` element for each object in the image.\n",
        "\n",
        "The `bndbox` element has the coordinates of the bounding box surrounding each object:\n",
        "1. `xmin`\n",
        "2. `ymin`\n",
        "3. `xmax`\n",
        "4. `ymax`"
      ]
    },
    {
      "cell_type": "code",
      "execution_count": 15,
      "metadata": {
        "colab": {
          "base_uri": "https://localhost:8080/"
        },
        "id": "_Y2DNR1xX3wl",
        "outputId": "cf92915e-e131-4ef3-ecc0-142c55a5ad19"
      },
      "outputs": [
        {
          "output_type": "stream",
          "name": "stdout",
          "text": [
            "<annotation>\n",
            "\t<folder>JPEGImages</folder>\n",
            "\t<filename>BloodImage_00001.jpg</filename>\n",
            "\t<path>/home/pi/detection_dataset/JPEGImages/BloodImage_00001.jpg</path>\n",
            "\t<source>\n",
            "\t\t<database>Unknown</database>\n",
            "\t</source>\n",
            "\t<size>\n",
            "\t\t<width>640</width>\n",
            "\t\t<height>480</height>\n",
            "\t\t<depth>3</depth>\n",
            "\t</size>\n",
            "\t<segmented>0</segmented>\n",
            "\t<object>\n",
            "\t\t<name>WBC</name>\n",
            "\t\t<pose>Unspecified</pose>\n",
            "\t\t<truncated>1</truncated>\n",
            "\t\t<difficult>0</difficult>\n",
            "\t\t<bndbox>\n",
            "\t\t\t<xmin>68</xmin>\n",
            "\t\t\t<ymin>315</ymin>\n",
            "\t\t\t<xmax>286</xmax>\n",
            "\t\t\t<ymax>480</ymax>\n",
            "\t\t</bndbox>\n",
            "\t</object>\n",
            "\t<object>\n",
            "\t\t<name>RBC</name>\n",
            "\t\t<pose>Unspecified</pose>\n",
            "\t\t<truncated>0</truncated>\n",
            "\t\t<difficult>0</difficult>\n",
            "\t\t<bndbox>\n",
            "\t\t\t<xmin>346</xmin>\n",
            "\t\t\t<ymin>361</ymin>\n",
            "\t\t\t<xmax>446</xmax>\n",
            "\t\t\t<ymax>454</ymax>\n",
            "\t\t</bndbox>\n",
            "\t</object>\n",
            "\t<object>\n",
            "\t\t<name>RBC</name>\n",
            "\t\t<pose>Unspecified</pose>\n",
            "\t\t<truncated>0</truncated>\n",
            "\t\t<difficult>0</difficult>\n",
            "\t\t<bndbox>\n",
            "\t\t\t<xmin>53</xmin>\n",
            "\t\t\t<ymin>179</ymin>\n",
            "\t\t\t<xmax>146</xmax>\n",
            "\t\t\t<ymax>299</ymax>\n",
            "\t\t</bndbox>\n",
            "\t</object>\n",
            "\t<object>\n",
            "\t\t<name>RBC</name>\n",
            "\t\t<pose>Unspecified</pose>\n",
            "\t\t<truncated>1</truncated>\n",
            "\t\t<difficult>0</difficult>\n",
            "\t\t<bndbox>\n",
            "\t\t\t<xmin>449</xmin>\n",
            "\t\t\t<ymin>400</ymin>\n",
            "\t\t\t<xmax>536</xmax>\n",
            "\t\t\t<ymax>480</ymax>\n",
            "\t\t</bndbox>\n",
            "\t</object>\n",
            "\t<object>\n",
            "\t\t<name>RBC</name>\n",
            "\t\t<pose>Unspecified</pose>\n",
            "\t\t<truncated>0</truncated>\n",
            "\t\t<difficult>0</difficult>\n",
            "\t\t<bndbox>\n",
            "\t\t\t<xmin>461</xmin>\n",
            "\t\t\t<ymin>132</ymin>\n",
            "\t\t\t<xmax>548</xmax>\n",
            "\t\t\t<ymax>212</ymax>\n",
            "\t\t</bndbox>\n",
            "\t</object>\n",
            "\t<object>\n",
            "\t\t<name>RBC</name>\n",
            "\t\t<pose>Unspecified</pose>\n",
            "\t\t<truncated>0</truncated>\n",
            "\t\t<difficult>0</difficult>\n",
            "\t\t<bndbox>\n",
            "\t\t\t<xmin>454</xmin>\n",
            "\t\t\t<ymin>295</ymin>\n",
            "\t\t\t<xmax>541</xmax>\n",
            "\t\t\t<ymax>375</ymax>\n",
            "\t\t</bndbox>\n",
            "\t</object>\n",
            "\t<object>\n",
            "\t\t<name>RBC</name>\n",
            "\t\t<pose>Unspecified</pose>\n",
            "\t\t<truncated>0</truncated>\n",
            "\t\t<difficult>0</difficult>\n",
            "\t\t<bndbox>\n",
            "\t\t\t<xmin>417</xmin>\n",
            "\t\t\t<ymin>283</ymin>\n",
            "\t\t\t<xmax>508</xmax>\n",
            "\t\t\t<ymax>383</ymax>\n",
            "\t\t</bndbox>\n",
            "\t</object>\n",
            "\t<object>\n",
            "\t\t<name>RBC</name>\n",
            "\t\t<pose>Unspecified</pose>\n",
            "\t\t<truncated>0</truncated>\n",
            "\t\t<difficult>0</difficult>\n",
            "\t\t<bndbox>\n",
            "\t\t\t<xmin>278</xmin>\n",
            "\t\t\t<ymin>342</ymin>\n",
            "\t\t\t<xmax>369</xmax>\n",
            "\t\t\t<ymax>451</ymax>\n",
            "\t\t</bndbox>\n",
            "\t</object>\n",
            "\t<object>\n",
            "\t\t<name>RBC</name>\n",
            "\t\t<pose>Unspecified</pose>\n",
            "\t\t<truncated>0</truncated>\n",
            "\t\t<difficult>0</difficult>\n",
            "\t\t<bndbox>\n",
            "\t\t\t<xmin>545</xmin>\n",
            "\t\t\t<ymin>62</ymin>\n",
            "\t\t\t<xmax>636</xmax>\n",
            "\t\t\t<ymax>159</ymax>\n",
            "\t\t</bndbox>\n",
            "\t</object>\n",
            "\t<object>\n",
            "\t\t<name>RBC</name>\n",
            "\t\t<pose>Unspecified</pose>\n",
            "\t\t<truncated>0</truncated>\n",
            "\t\t<difficult>0</difficult>\n",
            "\t\t<bndbox>\n",
            "\t\t\t<xmin>485</xmin>\n",
            "\t\t\t<ymin>91</ymin>\n",
            "\t\t\t<xmax>576</xmax>\n",
            "\t\t\t<ymax>188</ymax>\n",
            "\t\t</bndbox>\n",
            "\t</object>\n",
            "\t<object>\n",
            "\t\t<name>RBC</name>\n",
            "\t\t<pose>Unspecified</pose>\n",
            "\t\t<truncated>0</truncated>\n",
            "\t\t<difficult>0</difficult>\n",
            "\t\t<bndbox>\n",
            "\t\t\t<xmin>376</xmin>\n",
            "\t\t\t<ymin>171</ymin>\n",
            "\t\t\t<xmax>438</xmax>\n",
            "\t\t\t<ymax>253</ymax>\n",
            "\t\t</bndbox>\n",
            "\t</object>\n",
            "\t<object>\n",
            "\t\t<name>RBC</name>\n",
            "\t\t<pose>Unspecified</pose>\n",
            "\t\t<truncated>0</truncated>\n",
            "\t\t<difficult>0</difficult>\n",
            "\t\t<bndbox>\n",
            "\t\t\t<xmin>329</xmin>\n",
            "\t\t\t<ymin>177</ymin>\n",
            "\t\t\t<xmax>395</xmax>\n",
            "\t\t\t<ymax>271</ymax>\n",
            "\t\t</bndbox>\n",
            "\t</object>\n",
            "\t<object>\n",
            "\t\t<name>RBC</name>\n",
            "\t\t<pose>Unspecified</pose>\n",
            "\t\t<truncated>0</truncated>\n",
            "\t\t<difficult>0</difficult>\n",
            "\t\t<bndbox>\n",
            "\t\t\t<xmin>291</xmin>\n",
            "\t\t\t<ymin>59</ymin>\n",
            "\t\t\t<xmax>407</xmax>\n",
            "\t\t\t<ymax>168</ymax>\n",
            "\t\t</bndbox>\n",
            "\t</object>\n",
            "\t<object>\n",
            "\t\t<name>RBC</name>\n",
            "\t\t<pose>Unspecified</pose>\n",
            "\t\t<truncated>1</truncated>\n",
            "\t\t<difficult>0</difficult>\n",
            "\t\t<bndbox>\n",
            "\t\t\t<xmin>299</xmin>\n",
            "\t\t\t<ymin>1</ymin>\n",
            "\t\t\t<xmax>404</xmax>\n",
            "\t\t\t<ymax>68</ymax>\n",
            "\t\t</bndbox>\n",
            "\t</object>\n",
            "\t<object>\n",
            "\t\t<name>RBC</name>\n",
            "\t\t<pose>Unspecified</pose>\n",
            "\t\t<truncated>0</truncated>\n",
            "\t\t<difficult>0</difficult>\n",
            "\t\t<bndbox>\n",
            "\t\t\t<xmin>346</xmin>\n",
            "\t\t\t<ymin>26</ymin>\n",
            "\t\t\t<xmax>449</xmax>\n",
            "\t\t\t<ymax>138</ymax>\n",
            "\t\t</bndbox>\n",
            "\t</object>\n",
            "\t<object>\n",
            "\t\t<name>RBC</name>\n",
            "\t\t<pose>Unspecified</pose>\n",
            "\t\t<truncated>1</truncated>\n",
            "\t\t<difficult>0</difficult>\n",
            "\t\t<bndbox>\n",
            "\t\t\t<xmin>134</xmin>\n",
            "\t\t\t<ymin>1</ymin>\n",
            "\t\t\t<xmax>241</xmax>\n",
            "\t\t\t<ymax>95</ymax>\n",
            "\t\t</bndbox>\n",
            "\t</object>\n",
            "\t<object>\n",
            "\t\t<name>RBC</name>\n",
            "\t\t<pose>Unspecified</pose>\n",
            "\t\t<truncated>1</truncated>\n",
            "\t\t<difficult>0</difficult>\n",
            "\t\t<bndbox>\n",
            "\t\t\t<xmin>1</xmin>\n",
            "\t\t\t<ymin>38</ymin>\n",
            "\t\t\t<xmax>98</xmax>\n",
            "\t\t\t<ymax>164</ymax>\n",
            "\t\t</bndbox>\n",
            "\t</object>\n",
            "\t<object>\n",
            "\t\t<name>RBC</name>\n",
            "\t\t<pose>Unspecified</pose>\n",
            "\t\t<truncated>0</truncated>\n",
            "\t\t<difficult>0</difficult>\n",
            "\t\t<bndbox>\n",
            "\t\t\t<xmin>165</xmin>\n",
            "\t\t\t<ymin>160</ymin>\n",
            "\t\t\t<xmax>257</xmax>\n",
            "\t\t\t<ymax>264</ymax>\n",
            "\t\t</bndbox>\n",
            "\t</object>\n",
            "\t<object>\n",
            "\t\t<name>RBC</name>\n",
            "\t\t<pose>Unspecified</pose>\n",
            "\t\t<truncated>0</truncated>\n",
            "\t\t<difficult>0</difficult>\n",
            "\t\t<bndbox>\n",
            "\t\t\t<xmin>464</xmin>\n",
            "\t\t\t<ymin>209</ymin>\n",
            "\t\t\t<xmax>566</xmax>\n",
            "\t\t\t<ymax>319</ymax>\n",
            "\t\t</bndbox>\n",
            "\t</object>\n",
            "</annotation>\n",
            "\n"
          ]
        }
      ],
      "source": [
        "import xml\n",
        "\n",
        "im_name = \"2\"\n",
        "with open(\"./Annotations/\" + im_name + \".xml\") as f:\n",
        "    print(f.read())"
      ]
    },
    {
      "cell_type": "markdown",
      "metadata": {
        "id": "3Cfa9TiRX3wl"
      },
      "source": [
        "### 1.8) Parse an `xml` File\n",
        "The following code parses an `xml` file using the `xml` module. Based on the bounding box coordinates in the `bndbox` elements, a bounding box is drawn around each object."
      ]
    },
    {
      "cell_type": "code",
      "execution_count": 16,
      "metadata": {
        "colab": {
          "base_uri": "https://localhost:8080/",
          "height": 344
        },
        "id": "3dT4Z7PWX3wm",
        "outputId": "e4531c98-e058-4bc4-cf71-64939ca26a72"
      },
      "outputs": [
        {
          "output_type": "stream",
          "name": "stdout",
          "text": [
            "There are 20 objects in the image.\n",
            "BBoxes: [[42, 183, 277, 381, 'WBC'], [398, 222, 519, 330, 'RBC'], [505, 103, 626, 211, 'RBC'], [366, 315, 472, 413, 'RBC'], [456, 312, 562, 410, 'RBC'], [524, 250, 630, 348, 'RBC'], [534, 335, 640, 433, 'RBC'], [353, 43, 459, 141, 'RBC'], [316, 43, 422, 141, 'RBC'], [265, 25, 371, 123, 'RBC'], [221, 18, 327, 116, 'RBC'], [109, 1, 221, 85, 'RBC'], [1, 166, 96, 299, 'RBC'], [263, 402, 365, 480, 'RBC'], [178, 402, 280, 480, 'RBC'], [1, 1, 102, 77, 'RBC'], [196, 135, 313, 215, 'RBC'], [447, 392, 607, 480, 'RBC'], [148, 62, 234, 172, 'RBC'], [438, 1, 564, 85, 'RBC']]\n",
            "\n"
          ]
        },
        {
          "output_type": "display_data",
          "data": {
            "text/plain": [
              "<Figure size 432x288 with 1 Axes>"
            ],
            "image/png": "[encoded data removed]"
          },
          "metadata": {
            "needs_background": "light"
          }
        }
      ],
      "source": [
        "import skimage.io\n",
        "import matplotlib.pyplot, matplotlib.patches\n",
        "\n",
        "def extract_boxes(filename):\n",
        "    tree = xml.etree.ElementTree.parse(filename)\n",
        "    \n",
        "    root = tree.getroot()\n",
        "\n",
        "    boxes = list()\n",
        "    for box in root.findall('.//object'):\n",
        "            name = box.find('name').text   #Add label name to the box list\n",
        "            xmin = int(box.find('./bndbox/xmin').text)\n",
        "            ymin = int(box.find('./bndbox/ymin').text)\n",
        "            xmax = int(box.find('./bndbox/xmax').text)\n",
        "            ymax = int(box.find('./bndbox/ymax').text)\n",
        "            coors = [xmin, ymin, xmax, ymax, name]\n",
        "            boxes.append(coors)\n",
        "# extract image dimensions\n",
        "    width = int(root.find('.//size/width').text)\n",
        "    height = int(root.find('.//size/height').text)\n",
        "    return boxes, width, height\n",
        "\n",
        "im_name = \"9\"\n",
        "img = skimage.io.imread(\"./JPEGImages/\" + im_name + \".jpg\")\n",
        "\n",
        "boxes, w, h = extract_boxes(\"/content/drive/MyDrive/BCCD_Dataset/BCCD/Annotations/\" + im_name + \".xml\")\n",
        "print(\"There are {count} objects in the image.\".format(count=len(boxes)))\n",
        "print(\"BBoxes:\", boxes, end=\"\\n\\n\")\n",
        "\n",
        "fig, ax = matplotlib.pyplot.subplots()\n",
        "ax.imshow(img)\n",
        "\n",
        "for box_idx in range(len(boxes)):\n",
        "    rect = matplotlib.patches.Rectangle((boxes[box_idx][0], boxes[box_idx][1]), \n",
        "                                        boxes[box_idx][2]-boxes[box_idx][0], boxes[box_idx][3]-boxes[box_idx][1], \n",
        "                                        linewidth=5, \n",
        "                                        edgecolor='r', \n",
        "                                        facecolor='none')\n",
        "    ax.add_patch(rect)\n",
        "\n",
        "matplotlib.pyplot.show()"
      ]
    },
    {
      "cell_type": "markdown",
      "metadata": {
        "id": "knC_LLjrX3wp"
      },
      "source": [
        "### 1.9) Change the Directory to the Root of the GitHub Project"
      ]
    },
    {
      "cell_type": "code",
      "execution_count": 17,
      "metadata": {
        "colab": {
          "base_uri": "https://localhost:8080/"
        },
        "id": "TiB_fRlVX3wq",
        "outputId": "fef13daf-9b8c-4642-c9b2-df2a86a5dd3a"
      },
      "outputs": [
        {
          "output_type": "stream",
          "name": "stdout",
          "text": [
            "/content/Mask-RCNN-TF2\n"
          ]
        }
      ],
      "source": [
        "%cd /content/Mask-RCNN-TF2"
      ]
    },
    {
      "cell_type": "markdown",
      "metadata": {
        "id": "en0w9qKcX3wr"
      },
      "source": [
        "## 2. Training Steps\n",
        "1. Prepare the train and validation datasets by extending the `mrcnn.utils.Dataset` class.\n",
        "2. Prepare the model configuration parameters by extending the `mrcnn.config.Config` class.\n",
        "3. Build the Mask R-CNN model architecture by instantiating the `mrcnn.model.MaskRCNN` class.\n",
        "4. Download and load the pretrained weights.\n",
        "5. Train the model.\n",
        "6. Save the trained weights."
      ]
    },
    {
      "cell_type": "markdown",
      "metadata": {
        "id": "T9BDrCdyX3wr"
      },
      "source": [
        "### 2.1) Extend `mrcnn.utils.Dataset` Class\n",
        "The extended class implements 2 methods: \n",
        "1. `load_dataset()`: Groups information (image ID, image path, and annotation file path) about all images in a single dictionary.\n",
        "2. `load_mask()`: Groups the binary masks for all images in a single list."
      ]
    },
    {
      "cell_type": "code",
      "execution_count": 18,
      "metadata": {
        "colab": {
          "base_uri": "https://localhost:8080/",
          "height": 55
        },
        "id": "md_lPTDr8pfv",
        "outputId": "1f7bdea1-180b-4712-b9ce-5ab4edfd655a"
      },
      "outputs": [
        {
          "output_type": "execute_result",
          "data": {
            "text/plain": [
              "\"dataset_dir='/content/drive/MyDrive/BCCD_Dataset/BCCD'\\nimages_dir = dataset_dir + '/JPEGImages/'\\nannotations_dir = dataset_dir + '/Annotations/'\\na=0\\nfor filename in os.listdir(images_dir):\\n  image_id = filename[:-4]\\n  a+=1\\n  print(filename)\\n\\nprint(a)  \""
            ],
            "application/vnd.google.colaboratory.intrinsic+json": {
              "type": "string"
            }
          },
          "metadata": {},
          "execution_count": 18
        }
      ],
      "source": [
        "\"\"\"dataset_dir='/content/drive/MyDrive/BCCD_Dataset/BCCD'\n",
        "images_dir = dataset_dir + '/JPEGImages/'\n",
        "annotations_dir = dataset_dir + '/Annotations/'\n",
        "a=0\n",
        "for filename in os.listdir(images_dir):\n",
        "  image_id = filename[:-4]\n",
        "  a+=1\n",
        "  print(filename)\n",
        "\n",
        "print(a)  \"\"\""
      ]
    },
    {
      "cell_type": "code",
      "execution_count": 19,
      "metadata": {
        "colab": {
          "base_uri": "https://localhost:8080/"
        },
        "id": "_FzKhRABX3ws",
        "outputId": "38d8b428-f632-4964-aa59-47d64b90f8c3"
      },
      "outputs": [
        {
          "output_type": "stream",
          "name": "stderr",
          "text": [
            "/content/Mask-RCNN-TF2/mrcnn/model.py:2370: SyntaxWarning: \"is\" with a literal. Did you mean \"==\"?\n",
            "  if os.name is 'nt':\n"
          ]
        }
      ],
      "source": [
        "import os\n",
        "import xml.etree\n",
        "from numpy import zeros, asarray\n",
        "\n",
        "import mrcnn\n",
        "import mrcnn.utils\n",
        "import mrcnn.config\n",
        "import mrcnn.model\n",
        "\n",
        "class CbcDataset(mrcnn.utils.Dataset):\n",
        "\n",
        "    def load_dataset(self, dataset_dir, is_train=True):\n",
        "        self.add_class(\"dataset\", 1, \"WBC\")\n",
        "        self.add_class(\"dataset\", 2, \"RBC\")\n",
        "        self.add_class(\"dataset\", 3, \"Platelets\")\n",
        "\n",
        "        images_dir = dataset_dir + '/JPEGImages/'\n",
        "        annotations_dir = dataset_dir + '/Annotations/'\n",
        "\n",
        "        for filename in os.listdir(images_dir):\n",
        "            image_id = filename[:-4]\n",
        "            \n",
        "            #image_name=image_id[12:16]\n",
        "\n",
        "            if is_train and int(image_id) >= 300:\n",
        "                continue\n",
        "\n",
        "            if not is_train and int(image_id) < 300:\n",
        "                continue\n",
        "\n",
        "            img_path = images_dir + filename\n",
        "            ann_path = annotations_dir + image_id + '.xml'\n",
        "\n",
        "            self.add_image('dataset', image_id=image_id, path=img_path, annotation=ann_path)\n",
        "    \n",
        "    def load_mask(self, image_id):\n",
        "        info = self.image_info[image_id]\n",
        "        path = info['annotation']\n",
        "        boxes, w, h = extract_boxes(\"/content/drive/MyDrive/BCCD_Dataset/BCCD/Annotations/\" + im_name + \".xml\")\n",
        "        masks = zeros([h, w, len(boxes)], dtype='uint8')\n",
        "\n",
        "        class_ids = list()\n",
        "        for i in range(len(boxes)):\n",
        "            box = boxes[i]\n",
        "            row_s, row_e = box[1], box[3]\n",
        "            col_s, col_e = box[0], box[2]\n",
        "\n",
        "            if (box[4] == 'WBC'):\n",
        "                masks[row_s:row_e, col_s:col_e, i] = 1\n",
        "                class_ids.append(self.class_names.index('WBC'))\n",
        "            elif(box[4] == 'RBC'):\n",
        "                masks[row_s:row_e, col_s:col_e, i] = 2\n",
        "                class_ids.append(self.class_names.index('RBC')) \n",
        "            elif(box[4] == 'Platelets'):\n",
        "                masks[row_s:row_e, col_s:col_e, i] = 3\n",
        "                class_ids.append(self.class_names.index('Platelets'))\n",
        "            else:\n",
        "              continue\n",
        "\n",
        "        return masks, asarray(class_ids, dtype='int32')\n",
        "\n",
        "    # A helper method to extract the bounding boxes from the annotation file\n",
        "    def extract_boxes(self, filename):\n",
        "        tree = xml.etree.ElementTree.parse(filename)\n",
        "\n",
        "        root = tree.getroot()\n",
        "\n",
        "        boxes = list()\n",
        "        for box in root.findall('.//bndbox'):\n",
        "            name=box.find('name')\n",
        "            xmin = int(box.find('xmin').text)\n",
        "            ymin = int(box.find('ymin').text)\n",
        "            xmax = int(box.find('xmax').text)\n",
        "            ymax = int(box.find('ymax').text)\n",
        "            coors = [xmin, ymin, xmax, ymax]\n",
        "            boxes.append(coors)\n",
        "\n",
        "        width = int(root.find('.//size/width').text)\n",
        "        height = int(root.find('.//size/height').text)\n",
        "        return boxes, width, height"
      ]
    },
    {
      "cell_type": "markdown",
      "metadata": {
        "id": "rGynmGJCX3wt"
      },
      "source": [
        "#### Instantiate the New Class `BCCD`"
      ]
    },
    {
      "cell_type": "code",
      "execution_count": 20,
      "metadata": {
        "colab": {
          "base_uri": "https://localhost:8080/"
        },
        "id": "cq0H2TsRX3wt",
        "outputId": "7a43ff03-7be9-494d-b394-41d1c62fa3d1"
      },
      "outputs": [
        {
          "output_type": "stream",
          "name": "stdout",
          "text": [
            "Train: 299\n",
            "Test: 65\n"
          ]
        }
      ],
      "source": [
        "# Train\n",
        "train_set = CbcDataset()\n",
        "train_set.load_dataset(dataset_dir='/content/drive/MyDrive/BCCD_Dataset/BCCD', is_train=True)\n",
        "train_set.prepare()\n",
        "print('Train: %d' % len(train_set.image_ids))\n",
        "\n",
        "# test_set\n",
        "test_set = CbcDataset()\n",
        "test_set.load_dataset(dataset_dir='/content/drive/MyDrive/BCCD_Dataset/BCCD', is_train=False)\n",
        "test_set.prepare()\n",
        "print('Test: %d' % len(test_set.image_ids))"
      ]
    },
    {
      "cell_type": "markdown",
      "metadata": {
        "id": "oOu_uXd1X3wt"
      },
      "source": [
        "### 2.2) Extend the `mrcnn.config.Config` Class\n",
        "Prepare the model configuration parameters like:\n",
        "1. The number of classes in the dataset.\n",
        "2. The number of steps per epoch.\n",
        "3. The learning rate."
      ]
    },
    {
      "cell_type": "code",
      "execution_count": 21,
      "metadata": {
        "id": "kAEC0BZZX3wu"
      },
      "outputs": [],
      "source": [
        "class CbcConfig(mrcnn.config.Config):\n",
        "    NAME = \"cbc_cfg\"\n",
        "\n",
        "    # Train on 1 GPU and 8 images per GPU. We can put multiple images on each\n",
        "    # GPU because the images are small. Batch size is 8 (GPUs * images/GPU).\n",
        "    GPU_COUNT = 1\n",
        "    IMAGES_PER_GPU = 1\n",
        "    \n",
        "    NUM_CLASSES = 1+3\n",
        "    \n",
        "    LEARNING_RATE = 0.001\n",
        "\n",
        "    STEPS_PER_EPOCH = 100"
      ]
    },
    {
      "cell_type": "markdown",
      "metadata": {
        "id": "6a43343cX3wv"
      },
      "source": [
        "#### Instantiate the New Class `KangarooConfig`"
      ]
    },
    {
      "cell_type": "code",
      "execution_count": 22,
      "metadata": {
        "id": "7zlt5tp1X3wv"
      },
      "outputs": [],
      "source": [
        "CbcConfig = CbcConfig()"
      ]
    },
    {
      "cell_type": "markdown",
      "metadata": {
        "id": "GA0V_HChX3ww"
      },
      "source": [
        "### 2.3) Build the Mask R-CNN Model Architecture\n",
        "Instantiate the `mrcnn.model.MaskRCNN` class.\n",
        "\n",
        "Remember to set `mode=training`"
      ]
    },
    {
      "cell_type": "code",
      "execution_count": 23,
      "metadata": {
        "colab": {
          "base_uri": "https://localhost:8080/"
        },
        "id": "E5Kypt2KX3ww",
        "outputId": "ac5064a4-7b6b-45d8-eaa7-9a6b3bb0bada"
      },
      "outputs": [
        {
          "output_type": "stream",
          "name": "stdout",
          "text": [
            "Model: \"mask_rcnn\"\n",
            "__________________________________________________________________________________________________\n",
            "Layer (type)                    Output Shape         Param #     Connected to                     \n",
            "==================================================================================================\n",
            "input_image (InputLayer)        (None, None, None, 3 0                                            \n",
            "__________________________________________________________________________________________________\n",
            "zero_padding2d_1 (ZeroPadding2D (None, None, None, 3 0           input_image[0][0]                \n",
            "__________________________________________________________________________________________________\n",
            "conv1 (Conv2D)                  (None, None, None, 6 9472        zero_padding2d_1[0][0]           \n",
            "__________________________________________________________________________________________________\n",
            "bn_conv1 (BatchNorm)            (None, None, None, 6 256         conv1[0][0]                      \n",
            "__________________________________________________________________________________________________\n",
            "activation_1 (Activation)       (None, None, None, 6 0           bn_conv1[0][0]                   \n",
            "__________________________________________________________________________________________________\n",
            "max_pooling2d_1 (MaxPooling2D)  (None, None, None, 6 0           activation_1[0][0]               \n",
            "__________________________________________________________________________________________________\n",
            "res2a_branch2a (Conv2D)         (None, None, None, 6 4160        max_pooling2d_1[0][0]            \n",
            "__________________________________________________________________________________________________\n",
            "bn2a_branch2a (BatchNorm)       (None, None, None, 6 256         res2a_branch2a[0][0]             \n",
            "__________________________________________________________________________________________________\n",
            "activation_2 (Activation)       (None, None, None, 6 0           bn2a_branch2a[0][0]              \n",
            "__________________________________________________________________________________________________\n",
            "res2a_branch2b (Conv2D)         (None, None, None, 6 36928       activation_2[0][0]               \n",
            "__________________________________________________________________________________________________\n",
            "bn2a_branch2b (BatchNorm)       (None, None, None, 6 256         res2a_branch2b[0][0]             \n",
            "__________________________________________________________________________________________________\n",
            "activation_3 (Activation)       (None, None, None, 6 0           bn2a_branch2b[0][0]              \n",
            "__________________________________________________________________________________________________\n",
            "res2a_branch2c (Conv2D)         (None, None, None, 2 16640       activation_3[0][0]               \n",
            "__________________________________________________________________________________________________\n",
            "res2a_branch1 (Conv2D)          (None, None, None, 2 16640       max_pooling2d_1[0][0]            \n",
            "__________________________________________________________________________________________________\n",
            "bn2a_branch2c (BatchNorm)       (None, None, None, 2 1024        res2a_branch2c[0][0]             \n",
            "__________________________________________________________________________________________________\n",
            "bn2a_branch1 (BatchNorm)        (None, None, None, 2 1024        res2a_branch1[0][0]              \n",
            "__________________________________________________________________________________________________\n",
            "add_1 (Add)                     (None, None, None, 2 0           bn2a_branch2c[0][0]              \n",
            "                                                                 bn2a_branch1[0][0]               \n",
            "__________________________________________________________________________________________________\n",
            "res2a_out (Activation)          (None, None, None, 2 0           add_1[0][0]                      \n",
            "__________________________________________________________________________________________________\n",
            "res2b_branch2a (Conv2D)         (None, None, None, 6 16448       res2a_out[0][0]                  \n",
            "__________________________________________________________________________________________________\n",
            "bn2b_branch2a (BatchNorm)       (None, None, None, 6 256         res2b_branch2a[0][0]             \n",
            "__________________________________________________________________________________________________\n",
            "activation_4 (Activation)       (None, None, None, 6 0           bn2b_branch2a[0][0]              \n",
            "__________________________________________________________________________________________________\n",
            "res2b_branch2b (Conv2D)         (None, None, None, 6 36928       activation_4[0][0]               \n",
            "__________________________________________________________________________________________________\n",
            "bn2b_branch2b (BatchNorm)       (None, None, None, 6 256         res2b_branch2b[0][0]             \n",
            "__________________________________________________________________________________________________\n",
            "activation_5 (Activation)       (None, None, None, 6 0           bn2b_branch2b[0][0]              \n",
            "__________________________________________________________________________________________________\n",
            "res2b_branch2c (Conv2D)         (None, None, None, 2 16640       activation_5[0][0]               \n",
            "__________________________________________________________________________________________________\n",
            "bn2b_branch2c (BatchNorm)       (None, None, None, 2 1024        res2b_branch2c[0][0]             \n",
            "__________________________________________________________________________________________________\n",
            "add_2 (Add)                     (None, None, None, 2 0           bn2b_branch2c[0][0]              \n",
            "                                                                 res2a_out[0][0]                  \n",
            "__________________________________________________________________________________________________\n",
            "res2b_out (Activation)          (None, None, None, 2 0           add_2[0][0]                      \n",
            "__________________________________________________________________________________________________\n",
            "res2c_branch2a (Conv2D)         (None, None, None, 6 16448       res2b_out[0][0]                  \n",
            "__________________________________________________________________________________________________\n",
            "bn2c_branch2a (BatchNorm)       (None, None, None, 6 256         res2c_branch2a[0][0]             \n",
            "__________________________________________________________________________________________________\n",
            "activation_6 (Activation)       (None, None, None, 6 0           bn2c_branch2a[0][0]              \n",
            "__________________________________________________________________________________________________\n",
            "res2c_branch2b (Conv2D)         (None, None, None, 6 36928       activation_6[0][0]               \n",
            "__________________________________________________________________________________________________\n",
            "bn2c_branch2b (BatchNorm)       (None, None, None, 6 256         res2c_branch2b[0][0]             \n",
            "__________________________________________________________________________________________________\n",
            "activation_7 (Activation)       (None, None, None, 6 0           bn2c_branch2b[0][0]              \n",
            "__________________________________________________________________________________________________\n",
            "res2c_branch2c (Conv2D)         (None, None, None, 2 16640       activation_7[0][0]               \n",
            "__________________________________________________________________________________________________\n",
            "bn2c_branch2c (BatchNorm)       (None, None, None, 2 1024        res2c_branch2c[0][0]             \n",
            "__________________________________________________________________________________________________\n",
            "add_3 (Add)                     (None, None, None, 2 0           bn2c_branch2c[0][0]              \n",
            "                                                                 res2b_out[0][0]                  \n",
            "__________________________________________________________________________________________________\n",
            "res2c_out (Activation)          (None, None, None, 2 0           add_3[0][0]                      \n",
            "__________________________________________________________________________________________________\n",
            "res3a_branch2a (Conv2D)         (None, None, None, 1 32896       res2c_out[0][0]                  \n",
            "__________________________________________________________________________________________________\n",
            "bn3a_branch2a (BatchNorm)       (None, None, None, 1 512         res3a_branch2a[0][0]             \n",
            "__________________________________________________________________________________________________\n",
            "activation_8 (Activation)       (None, None, None, 1 0           bn3a_branch2a[0][0]              \n",
            "__________________________________________________________________________________________________\n",
            "res3a_branch2b (Conv2D)         (None, None, None, 1 147584      activation_8[0][0]               \n",
            "__________________________________________________________________________________________________\n",
            "bn3a_branch2b (BatchNorm)       (None, None, None, 1 512         res3a_branch2b[0][0]             \n",
            "__________________________________________________________________________________________________\n",
            "activation_9 (Activation)       (None, None, None, 1 0           bn3a_branch2b[0][0]              \n",
            "__________________________________________________________________________________________________\n",
            "res3a_branch2c (Conv2D)         (None, None, None, 5 66048       activation_9[0][0]               \n",
            "__________________________________________________________________________________________________\n",
            "res3a_branch1 (Conv2D)          (None, None, None, 5 131584      res2c_out[0][0]                  \n",
            "__________________________________________________________________________________________________\n",
            "bn3a_branch2c (BatchNorm)       (None, None, None, 5 2048        res3a_branch2c[0][0]             \n",
            "__________________________________________________________________________________________________\n",
            "bn3a_branch1 (BatchNorm)        (None, None, None, 5 2048        res3a_branch1[0][0]              \n",
            "__________________________________________________________________________________________________\n",
            "add_4 (Add)                     (None, None, None, 5 0           bn3a_branch2c[0][0]              \n",
            "                                                                 bn3a_branch1[0][0]               \n",
            "__________________________________________________________________________________________________\n",
            "res3a_out (Activation)          (None, None, None, 5 0           add_4[0][0]                      \n",
            "__________________________________________________________________________________________________\n",
            "res3b_branch2a (Conv2D)         (None, None, None, 1 65664       res3a_out[0][0]                  \n",
            "__________________________________________________________________________________________________\n",
            "bn3b_branch2a (BatchNorm)       (None, None, None, 1 512         res3b_branch2a[0][0]             \n",
            "__________________________________________________________________________________________________\n",
            "activation_10 (Activation)      (None, None, None, 1 0           bn3b_branch2a[0][0]              \n",
            "__________________________________________________________________________________________________\n",
            "res3b_branch2b (Conv2D)         (None, None, None, 1 147584      activation_10[0][0]              \n",
            "__________________________________________________________________________________________________\n",
            "bn3b_branch2b (BatchNorm)       (None, None, None, 1 512         res3b_branch2b[0][0]             \n",
            "__________________________________________________________________________________________________\n",
            "activation_11 (Activation)      (None, None, None, 1 0           bn3b_branch2b[0][0]              \n",
            "__________________________________________________________________________________________________\n",
            "res3b_branch2c (Conv2D)         (None, None, None, 5 66048       activation_11[0][0]              \n",
            "__________________________________________________________________________________________________\n",
            "bn3b_branch2c (BatchNorm)       (None, None, None, 5 2048        res3b_branch2c[0][0]             \n",
            "__________________________________________________________________________________________________\n",
            "add_5 (Add)                     (None, None, None, 5 0           bn3b_branch2c[0][0]              \n",
            "                                                                 res3a_out[0][0]                  \n",
            "__________________________________________________________________________________________________\n",
            "res3b_out (Activation)          (None, None, None, 5 0           add_5[0][0]                      \n",
            "__________________________________________________________________________________________________\n",
            "res3c_branch2a (Conv2D)         (None, None, None, 1 65664       res3b_out[0][0]                  \n",
            "__________________________________________________________________________________________________\n",
            "bn3c_branch2a (BatchNorm)       (None, None, None, 1 512         res3c_branch2a[0][0]             \n",
            "__________________________________________________________________________________________________\n",
            "activation_12 (Activation)      (None, None, None, 1 0           bn3c_branch2a[0][0]              \n",
            "__________________________________________________________________________________________________\n",
            "res3c_branch2b (Conv2D)         (None, None, None, 1 147584      activation_12[0][0]              \n",
            "__________________________________________________________________________________________________\n",
            "bn3c_branch2b (BatchNorm)       (None, None, None, 1 512         res3c_branch2b[0][0]             \n",
            "__________________________________________________________________________________________________\n",
            "activation_13 (Activation)      (None, None, None, 1 0           bn3c_branch2b[0][0]              \n",
            "__________________________________________________________________________________________________\n",
            "res3c_branch2c (Conv2D)         (None, None, None, 5 66048       activation_13[0][0]              \n",
            "__________________________________________________________________________________________________\n",
            "bn3c_branch2c (BatchNorm)       (None, None, None, 5 2048        res3c_branch2c[0][0]             \n",
            "__________________________________________________________________________________________________\n",
            "add_6 (Add)                     (None, None, None, 5 0           bn3c_branch2c[0][0]              \n",
            "                                                                 res3b_out[0][0]                  \n",
            "__________________________________________________________________________________________________\n",
            "res3c_out (Activation)          (None, None, None, 5 0           add_6[0][0]                      \n",
            "__________________________________________________________________________________________________\n",
            "res3d_branch2a (Conv2D)         (None, None, None, 1 65664       res3c_out[0][0]                  \n",
            "__________________________________________________________________________________________________\n",
            "bn3d_branch2a (BatchNorm)       (None, None, None, 1 512         res3d_branch2a[0][0]             \n",
            "__________________________________________________________________________________________________\n",
            "activation_14 (Activation)      (None, None, None, 1 0           bn3d_branch2a[0][0]              \n",
            "__________________________________________________________________________________________________\n",
            "res3d_branch2b (Conv2D)         (None, None, None, 1 147584      activation_14[0][0]              \n",
            "__________________________________________________________________________________________________\n",
            "bn3d_branch2b (BatchNorm)       (None, None, None, 1 512         res3d_branch2b[0][0]             \n",
            "__________________________________________________________________________________________________\n",
            "activation_15 (Activation)      (None, None, None, 1 0           bn3d_branch2b[0][0]              \n",
            "__________________________________________________________________________________________________\n",
            "res3d_branch2c (Conv2D)         (None, None, None, 5 66048       activation_15[0][0]              \n",
            "__________________________________________________________________________________________________\n",
            "bn3d_branch2c (BatchNorm)       (None, None, None, 5 2048        res3d_branch2c[0][0]             \n",
            "__________________________________________________________________________________________________\n",
            "add_7 (Add)                     (None, None, None, 5 0           bn3d_branch2c[0][0]              \n",
            "                                                                 res3c_out[0][0]                  \n",
            "__________________________________________________________________________________________________\n",
            "res3d_out (Activation)          (None, None, None, 5 0           add_7[0][0]                      \n",
            "__________________________________________________________________________________________________\n",
            "res4a_branch2a (Conv2D)         (None, None, None, 2 131328      res3d_out[0][0]                  \n",
            "__________________________________________________________________________________________________\n",
            "bn4a_branch2a (BatchNorm)       (None, None, None, 2 1024        res4a_branch2a[0][0]             \n",
            "__________________________________________________________________________________________________\n",
            "activation_16 (Activation)      (None, None, None, 2 0           bn4a_branch2a[0][0]              \n",
            "__________________________________________________________________________________________________\n",
            "res4a_branch2b (Conv2D)         (None, None, None, 2 590080      activation_16[0][0]              \n",
            "__________________________________________________________________________________________________\n",
            "bn4a_branch2b (BatchNorm)       (None, None, None, 2 1024        res4a_branch2b[0][0]             \n",
            "__________________________________________________________________________________________________\n",
            "activation_17 (Activation)      (None, None, None, 2 0           bn4a_branch2b[0][0]              \n",
            "__________________________________________________________________________________________________\n",
            "res4a_branch2c (Conv2D)         (None, None, None, 1 263168      activation_17[0][0]              \n",
            "__________________________________________________________________________________________________\n",
            "res4a_branch1 (Conv2D)          (None, None, None, 1 525312      res3d_out[0][0]                  \n",
            "__________________________________________________________________________________________________\n",
            "bn4a_branch2c (BatchNorm)       (None, None, None, 1 4096        res4a_branch2c[0][0]             \n",
            "__________________________________________________________________________________________________\n",
            "bn4a_branch1 (BatchNorm)        (None, None, None, 1 4096        res4a_branch1[0][0]              \n",
            "__________________________________________________________________________________________________\n",
            "add_8 (Add)                     (None, None, None, 1 0           bn4a_branch2c[0][0]              \n",
            "                                                                 bn4a_branch1[0][0]               \n",
            "__________________________________________________________________________________________________\n",
            "res4a_out (Activation)          (None, None, None, 1 0           add_8[0][0]                      \n",
            "__________________________________________________________________________________________________\n",
            "res4b_branch2a (Conv2D)         (None, None, None, 2 262400      res4a_out[0][0]                  \n",
            "__________________________________________________________________________________________________\n",
            "bn4b_branch2a (BatchNorm)       (None, None, None, 2 1024        res4b_branch2a[0][0]             \n",
            "__________________________________________________________________________________________________\n",
            "activation_18 (Activation)      (None, None, None, 2 0           bn4b_branch2a[0][0]              \n",
            "__________________________________________________________________________________________________\n",
            "res4b_branch2b (Conv2D)         (None, None, None, 2 590080      activation_18[0][0]              \n",
            "__________________________________________________________________________________________________\n",
            "bn4b_branch2b (BatchNorm)       (None, None, None, 2 1024        res4b_branch2b[0][0]             \n",
            "__________________________________________________________________________________________________\n",
            "activation_19 (Activation)      (None, None, None, 2 0           bn4b_branch2b[0][0]              \n",
            "__________________________________________________________________________________________________\n",
            "res4b_branch2c (Conv2D)         (None, None, None, 1 263168      activation_19[0][0]              \n",
            "__________________________________________________________________________________________________\n",
            "bn4b_branch2c (BatchNorm)       (None, None, None, 1 4096        res4b_branch2c[0][0]             \n",
            "__________________________________________________________________________________________________\n",
            "add_9 (Add)                     (None, None, None, 1 0           bn4b_branch2c[0][0]              \n",
            "                                                                 res4a_out[0][0]                  \n",
            "__________________________________________________________________________________________________\n",
            "res4b_out (Activation)          (None, None, None, 1 0           add_9[0][0]                      \n",
            "__________________________________________________________________________________________________\n",
            "res4c_branch2a (Conv2D)         (None, None, None, 2 262400      res4b_out[0][0]                  \n",
            "__________________________________________________________________________________________________\n",
            "bn4c_branch2a (BatchNorm)       (None, None, None, 2 1024        res4c_branch2a[0][0]             \n",
            "__________________________________________________________________________________________________\n",
            "activation_20 (Activation)      (None, None, None, 2 0           bn4c_branch2a[0][0]              \n",
            "__________________________________________________________________________________________________\n",
            "res4c_branch2b (Conv2D)         (None, None, None, 2 590080      activation_20[0][0]              \n",
            "__________________________________________________________________________________________________\n",
            "bn4c_branch2b (BatchNorm)       (None, None, None, 2 1024        res4c_branch2b[0][0]             \n",
            "__________________________________________________________________________________________________\n",
            "activation_21 (Activation)      (None, None, None, 2 0           bn4c_branch2b[0][0]              \n",
            "__________________________________________________________________________________________________\n",
            "res4c_branch2c (Conv2D)         (None, None, None, 1 263168      activation_21[0][0]              \n",
            "__________________________________________________________________________________________________\n",
            "bn4c_branch2c (BatchNorm)       (None, None, None, 1 4096        res4c_branch2c[0][0]             \n",
            "__________________________________________________________________________________________________\n",
            "add_10 (Add)                    (None, None, None, 1 0           bn4c_branch2c[0][0]              \n",
            "                                                                 res4b_out[0][0]                  \n",
            "__________________________________________________________________________________________________\n",
            "res4c_out (Activation)          (None, None, None, 1 0           add_10[0][0]                     \n",
            "__________________________________________________________________________________________________\n",
            "res4d_branch2a (Conv2D)         (None, None, None, 2 262400      res4c_out[0][0]                  \n",
            "__________________________________________________________________________________________________\n",
            "bn4d_branch2a (BatchNorm)       (None, None, None, 2 1024        res4d_branch2a[0][0]             \n",
            "__________________________________________________________________________________________________\n",
            "activation_22 (Activation)      (None, None, None, 2 0           bn4d_branch2a[0][0]              \n",
            "__________________________________________________________________________________________________\n",
            "res4d_branch2b (Conv2D)         (None, None, None, 2 590080      activation_22[0][0]              \n",
            "__________________________________________________________________________________________________\n",
            "bn4d_branch2b (BatchNorm)       (None, None, None, 2 1024        res4d_branch2b[0][0]             \n",
            "__________________________________________________________________________________________________\n",
            "activation_23 (Activation)      (None, None, None, 2 0           bn4d_branch2b[0][0]              \n",
            "__________________________________________________________________________________________________\n",
            "res4d_branch2c (Conv2D)         (None, None, None, 1 263168      activation_23[0][0]              \n",
            "__________________________________________________________________________________________________\n",
            "bn4d_branch2c (BatchNorm)       (None, None, None, 1 4096        res4d_branch2c[0][0]             \n",
            "__________________________________________________________________________________________________\n",
            "add_11 (Add)                    (None, None, None, 1 0           bn4d_branch2c[0][0]              \n",
            "                                                                 res4c_out[0][0]                  \n",
            "__________________________________________________________________________________________________\n",
            "res4d_out (Activation)          (None, None, None, 1 0           add_11[0][0]                     \n",
            "__________________________________________________________________________________________________\n",
            "res4e_branch2a (Conv2D)         (None, None, None, 2 262400      res4d_out[0][0]                  \n",
            "__________________________________________________________________________________________________\n",
            "bn4e_branch2a (BatchNorm)       (None, None, None, 2 1024        res4e_branch2a[0][0]             \n",
            "__________________________________________________________________________________________________\n",
            "activation_24 (Activation)      (None, None, None, 2 0           bn4e_branch2a[0][0]              \n",
            "__________________________________________________________________________________________________\n",
            "res4e_branch2b (Conv2D)         (None, None, None, 2 590080      activation_24[0][0]              \n",
            "__________________________________________________________________________________________________\n",
            "bn4e_branch2b (BatchNorm)       (None, None, None, 2 1024        res4e_branch2b[0][0]             \n",
            "__________________________________________________________________________________________________\n",
            "activation_25 (Activation)      (None, None, None, 2 0           bn4e_branch2b[0][0]              \n",
            "__________________________________________________________________________________________________\n",
            "res4e_branch2c (Conv2D)         (None, None, None, 1 263168      activation_25[0][0]              \n",
            "__________________________________________________________________________________________________\n",
            "bn4e_branch2c (BatchNorm)       (None, None, None, 1 4096        res4e_branch2c[0][0]             \n",
            "__________________________________________________________________________________________________\n",
            "add_12 (Add)                    (None, None, None, 1 0           bn4e_branch2c[0][0]              \n",
            "                                                                 res4d_out[0][0]                  \n",
            "__________________________________________________________________________________________________\n",
            "res4e_out (Activation)          (None, None, None, 1 0           add_12[0][0]                     \n",
            "__________________________________________________________________________________________________\n",
            "res4f_branch2a (Conv2D)         (None, None, None, 2 262400      res4e_out[0][0]                  \n",
            "__________________________________________________________________________________________________\n",
            "bn4f_branch2a (BatchNorm)       (None, None, None, 2 1024        res4f_branch2a[0][0]             \n",
            "__________________________________________________________________________________________________\n",
            "activation_26 (Activation)      (None, None, None, 2 0           bn4f_branch2a[0][0]              \n",
            "__________________________________________________________________________________________________\n",
            "res4f_branch2b (Conv2D)         (None, None, None, 2 590080      activation_26[0][0]              \n",
            "__________________________________________________________________________________________________\n",
            "bn4f_branch2b (BatchNorm)       (None, None, None, 2 1024        res4f_branch2b[0][0]             \n",
            "__________________________________________________________________________________________________\n",
            "activation_27 (Activation)      (None, None, None, 2 0           bn4f_branch2b[0][0]              \n",
            "__________________________________________________________________________________________________\n",
            "res4f_branch2c (Conv2D)         (None, None, None, 1 263168      activation_27[0][0]              \n",
            "__________________________________________________________________________________________________\n",
            "bn4f_branch2c (BatchNorm)       (None, None, None, 1 4096        res4f_branch2c[0][0]             \n",
            "__________________________________________________________________________________________________\n",
            "add_13 (Add)                    (None, None, None, 1 0           bn4f_branch2c[0][0]              \n",
            "                                                                 res4e_out[0][0]                  \n",
            "__________________________________________________________________________________________________\n",
            "res4f_out (Activation)          (None, None, None, 1 0           add_13[0][0]                     \n",
            "__________________________________________________________________________________________________\n",
            "res4g_branch2a (Conv2D)         (None, None, None, 2 262400      res4f_out[0][0]                  \n",
            "__________________________________________________________________________________________________\n",
            "bn4g_branch2a (BatchNorm)       (None, None, None, 2 1024        res4g_branch2a[0][0]             \n",
            "__________________________________________________________________________________________________\n",
            "activation_28 (Activation)      (None, None, None, 2 0           bn4g_branch2a[0][0]              \n",
            "__________________________________________________________________________________________________\n",
            "res4g_branch2b (Conv2D)         (None, None, None, 2 590080      activation_28[0][0]              \n",
            "__________________________________________________________________________________________________\n",
            "bn4g_branch2b (BatchNorm)       (None, None, None, 2 1024        res4g_branch2b[0][0]             \n",
            "__________________________________________________________________________________________________\n",
            "activation_29 (Activation)      (None, None, None, 2 0           bn4g_branch2b[0][0]              \n",
            "__________________________________________________________________________________________________\n",
            "res4g_branch2c (Conv2D)         (None, None, None, 1 263168      activation_29[0][0]              \n",
            "__________________________________________________________________________________________________\n",
            "bn4g_branch2c (BatchNorm)       (None, None, None, 1 4096        res4g_branch2c[0][0]             \n",
            "__________________________________________________________________________________________________\n",
            "add_14 (Add)                    (None, None, None, 1 0           bn4g_branch2c[0][0]              \n",
            "                                                                 res4f_out[0][0]                  \n",
            "__________________________________________________________________________________________________\n",
            "res4g_out (Activation)          (None, None, None, 1 0           add_14[0][0]                     \n",
            "__________________________________________________________________________________________________\n",
            "res4h_branch2a (Conv2D)         (None, None, None, 2 262400      res4g_out[0][0]                  \n",
            "__________________________________________________________________________________________________\n",
            "bn4h_branch2a (BatchNorm)       (None, None, None, 2 1024        res4h_branch2a[0][0]             \n",
            "__________________________________________________________________________________________________\n",
            "activation_30 (Activation)      (None, None, None, 2 0           bn4h_branch2a[0][0]              \n",
            "__________________________________________________________________________________________________\n",
            "res4h_branch2b (Conv2D)         (None, None, None, 2 590080      activation_30[0][0]              \n",
            "__________________________________________________________________________________________________\n",
            "bn4h_branch2b (BatchNorm)       (None, None, None, 2 1024        res4h_branch2b[0][0]             \n",
            "__________________________________________________________________________________________________\n",
            "activation_31 (Activation)      (None, None, None, 2 0           bn4h_branch2b[0][0]              \n",
            "__________________________________________________________________________________________________\n",
            "res4h_branch2c (Conv2D)         (None, None, None, 1 263168      activation_31[0][0]              \n",
            "__________________________________________________________________________________________________\n",
            "bn4h_branch2c (BatchNorm)       (None, None, None, 1 4096        res4h_branch2c[0][0]             \n",
            "__________________________________________________________________________________________________\n",
            "add_15 (Add)                    (None, None, None, 1 0           bn4h_branch2c[0][0]              \n",
            "                                                                 res4g_out[0][0]                  \n",
            "__________________________________________________________________________________________________\n",
            "res4h_out (Activation)          (None, None, None, 1 0           add_15[0][0]                     \n",
            "__________________________________________________________________________________________________\n",
            "res4i_branch2a (Conv2D)         (None, None, None, 2 262400      res4h_out[0][0]                  \n",
            "__________________________________________________________________________________________________\n",
            "bn4i_branch2a (BatchNorm)       (None, None, None, 2 1024        res4i_branch2a[0][0]             \n",
            "__________________________________________________________________________________________________\n",
            "activation_32 (Activation)      (None, None, None, 2 0           bn4i_branch2a[0][0]              \n",
            "__________________________________________________________________________________________________\n",
            "res4i_branch2b (Conv2D)         (None, None, None, 2 590080      activation_32[0][0]              \n",
            "__________________________________________________________________________________________________\n",
            "bn4i_branch2b (BatchNorm)       (None, None, None, 2 1024        res4i_branch2b[0][0]             \n",
            "__________________________________________________________________________________________________\n",
            "activation_33 (Activation)      (None, None, None, 2 0           bn4i_branch2b[0][0]              \n",
            "__________________________________________________________________________________________________\n",
            "res4i_branch2c (Conv2D)         (None, None, None, 1 263168      activation_33[0][0]              \n",
            "__________________________________________________________________________________________________\n",
            "bn4i_branch2c (BatchNorm)       (None, None, None, 1 4096        res4i_branch2c[0][0]             \n",
            "__________________________________________________________________________________________________\n",
            "add_16 (Add)                    (None, None, None, 1 0           bn4i_branch2c[0][0]              \n",
            "                                                                 res4h_out[0][0]                  \n",
            "__________________________________________________________________________________________________\n",
            "res4i_out (Activation)          (None, None, None, 1 0           add_16[0][0]                     \n",
            "__________________________________________________________________________________________________\n",
            "res4j_branch2a (Conv2D)         (None, None, None, 2 262400      res4i_out[0][0]                  \n",
            "__________________________________________________________________________________________________\n",
            "bn4j_branch2a (BatchNorm)       (None, None, None, 2 1024        res4j_branch2a[0][0]             \n",
            "__________________________________________________________________________________________________\n",
            "activation_34 (Activation)      (None, None, None, 2 0           bn4j_branch2a[0][0]              \n",
            "__________________________________________________________________________________________________\n",
            "res4j_branch2b (Conv2D)         (None, None, None, 2 590080      activation_34[0][0]              \n",
            "__________________________________________________________________________________________________\n",
            "bn4j_branch2b (BatchNorm)       (None, None, None, 2 1024        res4j_branch2b[0][0]             \n",
            "__________________________________________________________________________________________________\n",
            "activation_35 (Activation)      (None, None, None, 2 0           bn4j_branch2b[0][0]              \n",
            "__________________________________________________________________________________________________\n",
            "res4j_branch2c (Conv2D)         (None, None, None, 1 263168      activation_35[0][0]              \n",
            "__________________________________________________________________________________________________\n",
            "bn4j_branch2c (BatchNorm)       (None, None, None, 1 4096        res4j_branch2c[0][0]             \n",
            "__________________________________________________________________________________________________\n",
            "add_17 (Add)                    (None, None, None, 1 0           bn4j_branch2c[0][0]              \n",
            "                                                                 res4i_out[0][0]                  \n",
            "__________________________________________________________________________________________________\n",
            "res4j_out (Activation)          (None, None, None, 1 0           add_17[0][0]                     \n",
            "__________________________________________________________________________________________________\n",
            "res4k_branch2a (Conv2D)         (None, None, None, 2 262400      res4j_out[0][0]                  \n",
            "__________________________________________________________________________________________________\n",
            "bn4k_branch2a (BatchNorm)       (None, None, None, 2 1024        res4k_branch2a[0][0]             \n",
            "__________________________________________________________________________________________________\n",
            "activation_36 (Activation)      (None, None, None, 2 0           bn4k_branch2a[0][0]              \n",
            "__________________________________________________________________________________________________\n",
            "res4k_branch2b (Conv2D)         (None, None, None, 2 590080      activation_36[0][0]              \n",
            "__________________________________________________________________________________________________\n",
            "bn4k_branch2b (BatchNorm)       (None, None, None, 2 1024        res4k_branch2b[0][0]             \n",
            "__________________________________________________________________________________________________\n",
            "activation_37 (Activation)      (None, None, None, 2 0           bn4k_branch2b[0][0]              \n",
            "__________________________________________________________________________________________________\n",
            "res4k_branch2c (Conv2D)         (None, None, None, 1 263168      activation_37[0][0]              \n",
            "__________________________________________________________________________________________________\n",
            "bn4k_branch2c (BatchNorm)       (None, None, None, 1 4096        res4k_branch2c[0][0]             \n",
            "__________________________________________________________________________________________________\n",
            "add_18 (Add)                    (None, None, None, 1 0           bn4k_branch2c[0][0]              \n",
            "                                                                 res4j_out[0][0]                  \n",
            "__________________________________________________________________________________________________\n",
            "res4k_out (Activation)          (None, None, None, 1 0           add_18[0][0]                     \n",
            "__________________________________________________________________________________________________\n",
            "res4l_branch2a (Conv2D)         (None, None, None, 2 262400      res4k_out[0][0]                  \n",
            "__________________________________________________________________________________________________\n",
            "bn4l_branch2a (BatchNorm)       (None, None, None, 2 1024        res4l_branch2a[0][0]             \n",
            "__________________________________________________________________________________________________\n",
            "activation_38 (Activation)      (None, None, None, 2 0           bn4l_branch2a[0][0]              \n",
            "__________________________________________________________________________________________________\n",
            "res4l_branch2b (Conv2D)         (None, None, None, 2 590080      activation_38[0][0]              \n",
            "__________________________________________________________________________________________________\n",
            "bn4l_branch2b (BatchNorm)       (None, None, None, 2 1024        res4l_branch2b[0][0]             \n",
            "__________________________________________________________________________________________________\n",
            "activation_39 (Activation)      (None, None, None, 2 0           bn4l_branch2b[0][0]              \n",
            "__________________________________________________________________________________________________\n",
            "res4l_branch2c (Conv2D)         (None, None, None, 1 263168      activation_39[0][0]              \n",
            "__________________________________________________________________________________________________\n",
            "bn4l_branch2c (BatchNorm)       (None, None, None, 1 4096        res4l_branch2c[0][0]             \n",
            "__________________________________________________________________________________________________\n",
            "add_19 (Add)                    (None, None, None, 1 0           bn4l_branch2c[0][0]              \n",
            "                                                                 res4k_out[0][0]                  \n",
            "__________________________________________________________________________________________________\n",
            "res4l_out (Activation)          (None, None, None, 1 0           add_19[0][0]                     \n",
            "__________________________________________________________________________________________________\n",
            "res4m_branch2a (Conv2D)         (None, None, None, 2 262400      res4l_out[0][0]                  \n",
            "__________________________________________________________________________________________________\n",
            "bn4m_branch2a (BatchNorm)       (None, None, None, 2 1024        res4m_branch2a[0][0]             \n",
            "__________________________________________________________________________________________________\n",
            "activation_40 (Activation)      (None, None, None, 2 0           bn4m_branch2a[0][0]              \n",
            "__________________________________________________________________________________________________\n",
            "res4m_branch2b (Conv2D)         (None, None, None, 2 590080      activation_40[0][0]              \n",
            "__________________________________________________________________________________________________\n",
            "bn4m_branch2b (BatchNorm)       (None, None, None, 2 1024        res4m_branch2b[0][0]             \n",
            "__________________________________________________________________________________________________\n",
            "activation_41 (Activation)      (None, None, None, 2 0           bn4m_branch2b[0][0]              \n",
            "__________________________________________________________________________________________________\n",
            "res4m_branch2c (Conv2D)         (None, None, None, 1 263168      activation_41[0][0]              \n",
            "__________________________________________________________________________________________________\n",
            "bn4m_branch2c (BatchNorm)       (None, None, None, 1 4096        res4m_branch2c[0][0]             \n",
            "__________________________________________________________________________________________________\n",
            "add_20 (Add)                    (None, None, None, 1 0           bn4m_branch2c[0][0]              \n",
            "                                                                 res4l_out[0][0]                  \n",
            "__________________________________________________________________________________________________\n",
            "res4m_out (Activation)          (None, None, None, 1 0           add_20[0][0]                     \n",
            "__________________________________________________________________________________________________\n",
            "res4n_branch2a (Conv2D)         (None, None, None, 2 262400      res4m_out[0][0]                  \n",
            "__________________________________________________________________________________________________\n",
            "bn4n_branch2a (BatchNorm)       (None, None, None, 2 1024        res4n_branch2a[0][0]             \n",
            "__________________________________________________________________________________________________\n",
            "activation_42 (Activation)      (None, None, None, 2 0           bn4n_branch2a[0][0]              \n",
            "__________________________________________________________________________________________________\n",
            "res4n_branch2b (Conv2D)         (None, None, None, 2 590080      activation_42[0][0]              \n",
            "__________________________________________________________________________________________________\n",
            "bn4n_branch2b (BatchNorm)       (None, None, None, 2 1024        res4n_branch2b[0][0]             \n",
            "__________________________________________________________________________________________________\n",
            "activation_43 (Activation)      (None, None, None, 2 0           bn4n_branch2b[0][0]              \n",
            "__________________________________________________________________________________________________\n",
            "res4n_branch2c (Conv2D)         (None, None, None, 1 263168      activation_43[0][0]              \n",
            "__________________________________________________________________________________________________\n",
            "bn4n_branch2c (BatchNorm)       (None, None, None, 1 4096        res4n_branch2c[0][0]             \n",
            "__________________________________________________________________________________________________\n",
            "add_21 (Add)                    (None, None, None, 1 0           bn4n_branch2c[0][0]              \n",
            "                                                                 res4m_out[0][0]                  \n",
            "__________________________________________________________________________________________________\n",
            "res4n_out (Activation)          (None, None, None, 1 0           add_21[0][0]                     \n",
            "__________________________________________________________________________________________________\n",
            "res4o_branch2a (Conv2D)         (None, None, None, 2 262400      res4n_out[0][0]                  \n",
            "__________________________________________________________________________________________________\n",
            "bn4o_branch2a (BatchNorm)       (None, None, None, 2 1024        res4o_branch2a[0][0]             \n",
            "__________________________________________________________________________________________________\n",
            "activation_44 (Activation)      (None, None, None, 2 0           bn4o_branch2a[0][0]              \n",
            "__________________________________________________________________________________________________\n",
            "res4o_branch2b (Conv2D)         (None, None, None, 2 590080      activation_44[0][0]              \n",
            "__________________________________________________________________________________________________\n",
            "bn4o_branch2b (BatchNorm)       (None, None, None, 2 1024        res4o_branch2b[0][0]             \n",
            "__________________________________________________________________________________________________\n",
            "activation_45 (Activation)      (None, None, None, 2 0           bn4o_branch2b[0][0]              \n",
            "__________________________________________________________________________________________________\n",
            "res4o_branch2c (Conv2D)         (None, None, None, 1 263168      activation_45[0][0]              \n",
            "__________________________________________________________________________________________________\n",
            "bn4o_branch2c (BatchNorm)       (None, None, None, 1 4096        res4o_branch2c[0][0]             \n",
            "__________________________________________________________________________________________________\n",
            "add_22 (Add)                    (None, None, None, 1 0           bn4o_branch2c[0][0]              \n",
            "                                                                 res4n_out[0][0]                  \n",
            "__________________________________________________________________________________________________\n",
            "res4o_out (Activation)          (None, None, None, 1 0           add_22[0][0]                     \n",
            "__________________________________________________________________________________________________\n",
            "res4p_branch2a (Conv2D)         (None, None, None, 2 262400      res4o_out[0][0]                  \n",
            "__________________________________________________________________________________________________\n",
            "bn4p_branch2a (BatchNorm)       (None, None, None, 2 1024        res4p_branch2a[0][0]             \n",
            "__________________________________________________________________________________________________\n",
            "activation_46 (Activation)      (None, None, None, 2 0           bn4p_branch2a[0][0]              \n",
            "__________________________________________________________________________________________________\n",
            "res4p_branch2b (Conv2D)         (None, None, None, 2 590080      activation_46[0][0]              \n",
            "__________________________________________________________________________________________________\n",
            "bn4p_branch2b (BatchNorm)       (None, None, None, 2 1024        res4p_branch2b[0][0]             \n",
            "__________________________________________________________________________________________________\n",
            "activation_47 (Activation)      (None, None, None, 2 0           bn4p_branch2b[0][0]              \n",
            "__________________________________________________________________________________________________\n",
            "res4p_branch2c (Conv2D)         (None, None, None, 1 263168      activation_47[0][0]              \n",
            "__________________________________________________________________________________________________\n",
            "bn4p_branch2c (BatchNorm)       (None, None, None, 1 4096        res4p_branch2c[0][0]             \n",
            "__________________________________________________________________________________________________\n",
            "add_23 (Add)                    (None, None, None, 1 0           bn4p_branch2c[0][0]              \n",
            "                                                                 res4o_out[0][0]                  \n",
            "__________________________________________________________________________________________________\n",
            "res4p_out (Activation)          (None, None, None, 1 0           add_23[0][0]                     \n",
            "__________________________________________________________________________________________________\n",
            "res4q_branch2a (Conv2D)         (None, None, None, 2 262400      res4p_out[0][0]                  \n",
            "__________________________________________________________________________________________________\n",
            "bn4q_branch2a (BatchNorm)       (None, None, None, 2 1024        res4q_branch2a[0][0]             \n",
            "__________________________________________________________________________________________________\n",
            "activation_48 (Activation)      (None, None, None, 2 0           bn4q_branch2a[0][0]              \n",
            "__________________________________________________________________________________________________\n",
            "res4q_branch2b (Conv2D)         (None, None, None, 2 590080      activation_48[0][0]              \n",
            "__________________________________________________________________________________________________\n",
            "bn4q_branch2b (BatchNorm)       (None, None, None, 2 1024        res4q_branch2b[0][0]             \n",
            "__________________________________________________________________________________________________\n",
            "activation_49 (Activation)      (None, None, None, 2 0           bn4q_branch2b[0][0]              \n",
            "__________________________________________________________________________________________________\n",
            "res4q_branch2c (Conv2D)         (None, None, None, 1 263168      activation_49[0][0]              \n",
            "__________________________________________________________________________________________________\n",
            "bn4q_branch2c (BatchNorm)       (None, None, None, 1 4096        res4q_branch2c[0][0]             \n",
            "__________________________________________________________________________________________________\n",
            "add_24 (Add)                    (None, None, None, 1 0           bn4q_branch2c[0][0]              \n",
            "                                                                 res4p_out[0][0]                  \n",
            "__________________________________________________________________________________________________\n",
            "res4q_out (Activation)          (None, None, None, 1 0           add_24[0][0]                     \n",
            "__________________________________________________________________________________________________\n",
            "res4r_branch2a (Conv2D)         (None, None, None, 2 262400      res4q_out[0][0]                  \n",
            "__________________________________________________________________________________________________\n",
            "bn4r_branch2a (BatchNorm)       (None, None, None, 2 1024        res4r_branch2a[0][0]             \n",
            "__________________________________________________________________________________________________\n",
            "activation_50 (Activation)      (None, None, None, 2 0           bn4r_branch2a[0][0]              \n",
            "__________________________________________________________________________________________________\n",
            "res4r_branch2b (Conv2D)         (None, None, None, 2 590080      activation_50[0][0]              \n",
            "__________________________________________________________________________________________________\n",
            "bn4r_branch2b (BatchNorm)       (None, None, None, 2 1024        res4r_branch2b[0][0]             \n",
            "__________________________________________________________________________________________________\n",
            "activation_51 (Activation)      (None, None, None, 2 0           bn4r_branch2b[0][0]              \n",
            "__________________________________________________________________________________________________\n",
            "res4r_branch2c (Conv2D)         (None, None, None, 1 263168      activation_51[0][0]              \n",
            "__________________________________________________________________________________________________\n",
            "bn4r_branch2c (BatchNorm)       (None, None, None, 1 4096        res4r_branch2c[0][0]             \n",
            "__________________________________________________________________________________________________\n",
            "add_25 (Add)                    (None, None, None, 1 0           bn4r_branch2c[0][0]              \n",
            "                                                                 res4q_out[0][0]                  \n",
            "__________________________________________________________________________________________________\n",
            "res4r_out (Activation)          (None, None, None, 1 0           add_25[0][0]                     \n",
            "__________________________________________________________________________________________________\n",
            "res4s_branch2a (Conv2D)         (None, None, None, 2 262400      res4r_out[0][0]                  \n",
            "__________________________________________________________________________________________________\n",
            "bn4s_branch2a (BatchNorm)       (None, None, None, 2 1024        res4s_branch2a[0][0]             \n",
            "__________________________________________________________________________________________________\n",
            "activation_52 (Activation)      (None, None, None, 2 0           bn4s_branch2a[0][0]              \n",
            "__________________________________________________________________________________________________\n",
            "res4s_branch2b (Conv2D)         (None, None, None, 2 590080      activation_52[0][0]              \n",
            "__________________________________________________________________________________________________\n",
            "bn4s_branch2b (BatchNorm)       (None, None, None, 2 1024        res4s_branch2b[0][0]             \n",
            "__________________________________________________________________________________________________\n",
            "activation_53 (Activation)      (None, None, None, 2 0           bn4s_branch2b[0][0]              \n",
            "__________________________________________________________________________________________________\n",
            "res4s_branch2c (Conv2D)         (None, None, None, 1 263168      activation_53[0][0]              \n",
            "__________________________________________________________________________________________________\n",
            "bn4s_branch2c (BatchNorm)       (None, None, None, 1 4096        res4s_branch2c[0][0]             \n",
            "__________________________________________________________________________________________________\n",
            "add_26 (Add)                    (None, None, None, 1 0           bn4s_branch2c[0][0]              \n",
            "                                                                 res4r_out[0][0]                  \n",
            "__________________________________________________________________________________________________\n",
            "res4s_out (Activation)          (None, None, None, 1 0           add_26[0][0]                     \n",
            "__________________________________________________________________________________________________\n",
            "res4t_branch2a (Conv2D)         (None, None, None, 2 262400      res4s_out[0][0]                  \n",
            "__________________________________________________________________________________________________\n",
            "bn4t_branch2a (BatchNorm)       (None, None, None, 2 1024        res4t_branch2a[0][0]             \n",
            "__________________________________________________________________________________________________\n",
            "activation_54 (Activation)      (None, None, None, 2 0           bn4t_branch2a[0][0]              \n",
            "__________________________________________________________________________________________________\n",
            "res4t_branch2b (Conv2D)         (None, None, None, 2 590080      activation_54[0][0]              \n",
            "__________________________________________________________________________________________________\n",
            "bn4t_branch2b (BatchNorm)       (None, None, None, 2 1024        res4t_branch2b[0][0]             \n",
            "__________________________________________________________________________________________________\n",
            "activation_55 (Activation)      (None, None, None, 2 0           bn4t_branch2b[0][0]              \n",
            "__________________________________________________________________________________________________\n",
            "res4t_branch2c (Conv2D)         (None, None, None, 1 263168      activation_55[0][0]              \n",
            "__________________________________________________________________________________________________\n",
            "bn4t_branch2c (BatchNorm)       (None, None, None, 1 4096        res4t_branch2c[0][0]             \n",
            "__________________________________________________________________________________________________\n",
            "add_27 (Add)                    (None, None, None, 1 0           bn4t_branch2c[0][0]              \n",
            "                                                                 res4s_out[0][0]                  \n",
            "__________________________________________________________________________________________________\n",
            "res4t_out (Activation)          (None, None, None, 1 0           add_27[0][0]                     \n",
            "__________________________________________________________________________________________________\n",
            "res4u_branch2a (Conv2D)         (None, None, None, 2 262400      res4t_out[0][0]                  \n",
            "__________________________________________________________________________________________________\n",
            "bn4u_branch2a (BatchNorm)       (None, None, None, 2 1024        res4u_branch2a[0][0]             \n",
            "__________________________________________________________________________________________________\n",
            "activation_56 (Activation)      (None, None, None, 2 0           bn4u_branch2a[0][0]              \n",
            "__________________________________________________________________________________________________\n",
            "res4u_branch2b (Conv2D)         (None, None, None, 2 590080      activation_56[0][0]              \n",
            "__________________________________________________________________________________________________\n",
            "bn4u_branch2b (BatchNorm)       (None, None, None, 2 1024        res4u_branch2b[0][0]             \n",
            "__________________________________________________________________________________________________\n",
            "activation_57 (Activation)      (None, None, None, 2 0           bn4u_branch2b[0][0]              \n",
            "__________________________________________________________________________________________________\n",
            "res4u_branch2c (Conv2D)         (None, None, None, 1 263168      activation_57[0][0]              \n",
            "__________________________________________________________________________________________________\n",
            "bn4u_branch2c (BatchNorm)       (None, None, None, 1 4096        res4u_branch2c[0][0]             \n",
            "__________________________________________________________________________________________________\n",
            "add_28 (Add)                    (None, None, None, 1 0           bn4u_branch2c[0][0]              \n",
            "                                                                 res4t_out[0][0]                  \n",
            "__________________________________________________________________________________________________\n",
            "res4u_out (Activation)          (None, None, None, 1 0           add_28[0][0]                     \n",
            "__________________________________________________________________________________________________\n",
            "res4v_branch2a (Conv2D)         (None, None, None, 2 262400      res4u_out[0][0]                  \n",
            "__________________________________________________________________________________________________\n",
            "bn4v_branch2a (BatchNorm)       (None, None, None, 2 1024        res4v_branch2a[0][0]             \n",
            "__________________________________________________________________________________________________\n",
            "activation_58 (Activation)      (None, None, None, 2 0           bn4v_branch2a[0][0]              \n",
            "__________________________________________________________________________________________________\n",
            "res4v_branch2b (Conv2D)         (None, None, None, 2 590080      activation_58[0][0]              \n",
            "__________________________________________________________________________________________________\n",
            "bn4v_branch2b (BatchNorm)       (None, None, None, 2 1024        res4v_branch2b[0][0]             \n",
            "__________________________________________________________________________________________________\n",
            "activation_59 (Activation)      (None, None, None, 2 0           bn4v_branch2b[0][0]              \n",
            "__________________________________________________________________________________________________\n",
            "res4v_branch2c (Conv2D)         (None, None, None, 1 263168      activation_59[0][0]              \n",
            "__________________________________________________________________________________________________\n",
            "bn4v_branch2c (BatchNorm)       (None, None, None, 1 4096        res4v_branch2c[0][0]             \n",
            "__________________________________________________________________________________________________\n",
            "add_29 (Add)                    (None, None, None, 1 0           bn4v_branch2c[0][0]              \n",
            "                                                                 res4u_out[0][0]                  \n",
            "__________________________________________________________________________________________________\n",
            "res4v_out (Activation)          (None, None, None, 1 0           add_29[0][0]                     \n",
            "__________________________________________________________________________________________________\n",
            "res4w_branch2a (Conv2D)         (None, None, None, 2 262400      res4v_out[0][0]                  \n",
            "__________________________________________________________________________________________________\n",
            "bn4w_branch2a (BatchNorm)       (None, None, None, 2 1024        res4w_branch2a[0][0]             \n",
            "__________________________________________________________________________________________________\n",
            "activation_60 (Activation)      (None, None, None, 2 0           bn4w_branch2a[0][0]              \n",
            "__________________________________________________________________________________________________\n",
            "res4w_branch2b (Conv2D)         (None, None, None, 2 590080      activation_60[0][0]              \n",
            "__________________________________________________________________________________________________\n",
            "bn4w_branch2b (BatchNorm)       (None, None, None, 2 1024        res4w_branch2b[0][0]             \n",
            "__________________________________________________________________________________________________\n",
            "activation_61 (Activation)      (None, None, None, 2 0           bn4w_branch2b[0][0]              \n",
            "__________________________________________________________________________________________________\n",
            "res4w_branch2c (Conv2D)         (None, None, None, 1 263168      activation_61[0][0]              \n",
            "__________________________________________________________________________________________________\n",
            "bn4w_branch2c (BatchNorm)       (None, None, None, 1 4096        res4w_branch2c[0][0]             \n",
            "__________________________________________________________________________________________________\n",
            "add_30 (Add)                    (None, None, None, 1 0           bn4w_branch2c[0][0]              \n",
            "                                                                 res4v_out[0][0]                  \n",
            "__________________________________________________________________________________________________\n",
            "res4w_out (Activation)          (None, None, None, 1 0           add_30[0][0]                     \n",
            "__________________________________________________________________________________________________\n",
            "res5a_branch2a (Conv2D)         (None, None, None, 5 524800      res4w_out[0][0]                  \n",
            "__________________________________________________________________________________________________\n",
            "bn5a_branch2a (BatchNorm)       (None, None, None, 5 2048        res5a_branch2a[0][0]             \n",
            "__________________________________________________________________________________________________\n",
            "activation_62 (Activation)      (None, None, None, 5 0           bn5a_branch2a[0][0]              \n",
            "__________________________________________________________________________________________________\n",
            "res5a_branch2b (Conv2D)         (None, None, None, 5 2359808     activation_62[0][0]              \n",
            "__________________________________________________________________________________________________\n",
            "bn5a_branch2b (BatchNorm)       (None, None, None, 5 2048        res5a_branch2b[0][0]             \n",
            "__________________________________________________________________________________________________\n",
            "activation_63 (Activation)      (None, None, None, 5 0           bn5a_branch2b[0][0]              \n",
            "__________________________________________________________________________________________________\n",
            "res5a_branch2c (Conv2D)         (None, None, None, 2 1050624     activation_63[0][0]              \n",
            "__________________________________________________________________________________________________\n",
            "res5a_branch1 (Conv2D)          (None, None, None, 2 2099200     res4w_out[0][0]                  \n",
            "__________________________________________________________________________________________________\n",
            "bn5a_branch2c (BatchNorm)       (None, None, None, 2 8192        res5a_branch2c[0][0]             \n",
            "__________________________________________________________________________________________________\n",
            "bn5a_branch1 (BatchNorm)        (None, None, None, 2 8192        res5a_branch1[0][0]              \n",
            "__________________________________________________________________________________________________\n",
            "add_31 (Add)                    (None, None, None, 2 0           bn5a_branch2c[0][0]              \n",
            "                                                                 bn5a_branch1[0][0]               \n",
            "__________________________________________________________________________________________________\n",
            "res5a_out (Activation)          (None, None, None, 2 0           add_31[0][0]                     \n",
            "__________________________________________________________________________________________________\n",
            "res5b_branch2a (Conv2D)         (None, None, None, 5 1049088     res5a_out[0][0]                  \n",
            "__________________________________________________________________________________________________\n",
            "bn5b_branch2a (BatchNorm)       (None, None, None, 5 2048        res5b_branch2a[0][0]             \n",
            "__________________________________________________________________________________________________\n",
            "activation_64 (Activation)      (None, None, None, 5 0           bn5b_branch2a[0][0]              \n",
            "__________________________________________________________________________________________________\n",
            "res5b_branch2b (Conv2D)         (None, None, None, 5 2359808     activation_64[0][0]              \n",
            "__________________________________________________________________________________________________\n",
            "bn5b_branch2b (BatchNorm)       (None, None, None, 5 2048        res5b_branch2b[0][0]             \n",
            "__________________________________________________________________________________________________\n",
            "activation_65 (Activation)      (None, None, None, 5 0           bn5b_branch2b[0][0]              \n",
            "__________________________________________________________________________________________________\n",
            "res5b_branch2c (Conv2D)         (None, None, None, 2 1050624     activation_65[0][0]              \n",
            "__________________________________________________________________________________________________\n",
            "bn5b_branch2c (BatchNorm)       (None, None, None, 2 8192        res5b_branch2c[0][0]             \n",
            "__________________________________________________________________________________________________\n",
            "add_32 (Add)                    (None, None, None, 2 0           bn5b_branch2c[0][0]              \n",
            "                                                                 res5a_out[0][0]                  \n",
            "__________________________________________________________________________________________________\n",
            "res5b_out (Activation)          (None, None, None, 2 0           add_32[0][0]                     \n",
            "__________________________________________________________________________________________________\n",
            "res5c_branch2a (Conv2D)         (None, None, None, 5 1049088     res5b_out[0][0]                  \n",
            "__________________________________________________________________________________________________\n",
            "bn5c_branch2a (BatchNorm)       (None, None, None, 5 2048        res5c_branch2a[0][0]             \n",
            "__________________________________________________________________________________________________\n",
            "activation_66 (Activation)      (None, None, None, 5 0           bn5c_branch2a[0][0]              \n",
            "__________________________________________________________________________________________________\n",
            "res5c_branch2b (Conv2D)         (None, None, None, 5 2359808     activation_66[0][0]              \n",
            "__________________________________________________________________________________________________\n",
            "bn5c_branch2b (BatchNorm)       (None, None, None, 5 2048        res5c_branch2b[0][0]             \n",
            "__________________________________________________________________________________________________\n",
            "activation_67 (Activation)      (None, None, None, 5 0           bn5c_branch2b[0][0]              \n",
            "__________________________________________________________________________________________________\n",
            "res5c_branch2c (Conv2D)         (None, None, None, 2 1050624     activation_67[0][0]              \n",
            "__________________________________________________________________________________________________\n",
            "bn5c_branch2c (BatchNorm)       (None, None, None, 2 8192        res5c_branch2c[0][0]             \n",
            "__________________________________________________________________________________________________\n",
            "add_33 (Add)                    (None, None, None, 2 0           bn5c_branch2c[0][0]              \n",
            "                                                                 res5b_out[0][0]                  \n",
            "__________________________________________________________________________________________________\n",
            "res5c_out (Activation)          (None, None, None, 2 0           add_33[0][0]                     \n",
            "__________________________________________________________________________________________________\n",
            "fpn_c5p5 (Conv2D)               (None, None, None, 2 524544      res5c_out[0][0]                  \n",
            "__________________________________________________________________________________________________\n",
            "fpn_p5upsampled (UpSampling2D)  (None, None, None, 2 0           fpn_c5p5[0][0]                   \n",
            "__________________________________________________________________________________________________\n",
            "fpn_c4p4 (Conv2D)               (None, None, None, 2 262400      res4w_out[0][0]                  \n",
            "__________________________________________________________________________________________________\n",
            "fpn_p4add (Add)                 (None, None, None, 2 0           fpn_p5upsampled[0][0]            \n",
            "                                                                 fpn_c4p4[0][0]                   \n",
            "__________________________________________________________________________________________________\n",
            "fpn_p4upsampled (UpSampling2D)  (None, None, None, 2 0           fpn_p4add[0][0]                  \n",
            "__________________________________________________________________________________________________\n",
            "fpn_c3p3 (Conv2D)               (None, None, None, 2 131328      res3d_out[0][0]                  \n",
            "__________________________________________________________________________________________________\n",
            "fpn_p3add (Add)                 (None, None, None, 2 0           fpn_p4upsampled[0][0]            \n",
            "                                                                 fpn_c3p3[0][0]                   \n",
            "__________________________________________________________________________________________________\n",
            "fpn_p3upsampled (UpSampling2D)  (None, None, None, 2 0           fpn_p3add[0][0]                  \n",
            "__________________________________________________________________________________________________\n",
            "fpn_c2p2 (Conv2D)               (None, None, None, 2 65792       res2c_out[0][0]                  \n",
            "__________________________________________________________________________________________________\n",
            "fpn_p2add (Add)                 (None, None, None, 2 0           fpn_p3upsampled[0][0]            \n",
            "                                                                 fpn_c2p2[0][0]                   \n",
            "__________________________________________________________________________________________________\n",
            "fpn_p5 (Conv2D)                 (None, None, None, 2 590080      fpn_c5p5[0][0]                   \n",
            "__________________________________________________________________________________________________\n",
            "fpn_p2 (Conv2D)                 (None, None, None, 2 590080      fpn_p2add[0][0]                  \n",
            "__________________________________________________________________________________________________\n",
            "fpn_p3 (Conv2D)                 (None, None, None, 2 590080      fpn_p3add[0][0]                  \n",
            "__________________________________________________________________________________________________\n",
            "fpn_p4 (Conv2D)                 (None, None, None, 2 590080      fpn_p4add[0][0]                  \n",
            "__________________________________________________________________________________________________\n",
            "fpn_p6 (MaxPooling2D)           (None, None, None, 2 0           fpn_p5[0][0]                     \n",
            "__________________________________________________________________________________________________\n",
            "rpn_model (Model)               [(None, None, 2), (N 1189394     fpn_p2[0][0]                     \n",
            "                                                                 fpn_p3[0][0]                     \n",
            "                                                                 fpn_p4[0][0]                     \n",
            "                                                                 fpn_p5[0][0]                     \n",
            "                                                                 fpn_p6[0][0]                     \n",
            "__________________________________________________________________________________________________\n",
            "rpn_class (Concatenate)         (None, None, 2)      0           rpn_model[1][1]                  \n",
            "                                                                 rpn_model[2][1]                  \n",
            "                                                                 rpn_model[3][1]                  \n",
            "                                                                 rpn_model[4][1]                  \n",
            "                                                                 rpn_model[5][1]                  \n",
            "__________________________________________________________________________________________________\n",
            "rpn_bbox (Concatenate)          (None, None, 4)      0           rpn_model[1][2]                  \n",
            "                                                                 rpn_model[2][2]                  \n",
            "                                                                 rpn_model[3][2]                  \n",
            "                                                                 rpn_model[4][2]                  \n",
            "                                                                 rpn_model[5][2]                  \n",
            "__________________________________________________________________________________________________\n",
            "anchors (Lambda)                (1, 261888, 4)       0           input_image[0][0]                \n",
            "__________________________________________________________________________________________________\n",
            "input_gt_boxes (InputLayer)     (None, None, 4)      0                                            \n",
            "__________________________________________________________________________________________________\n",
            "ROI (ProposalLayer)             (None, 2000, 4)      0           rpn_class[0][0]                  \n",
            "                                                                 rpn_bbox[0][0]                   \n",
            "                                                                 anchors[0][0]                    \n",
            "__________________________________________________________________________________________________\n",
            "input_gt_class_ids (InputLayer) (None, None)         0                                            \n",
            "__________________________________________________________________________________________________\n",
            "lambda_1 (Lambda)               (None, None, 4)      0           input_gt_boxes[0][0]             \n",
            "__________________________________________________________________________________________________\n",
            "input_gt_masks (InputLayer)     (None, 56, 56, None) 0                                            \n",
            "__________________________________________________________________________________________________\n",
            "proposal_targets (DetectionTarg [(None, 200, 4), (No 0           ROI[0][0]                        \n",
            "                                                                 input_gt_class_ids[0][0]         \n",
            "                                                                 lambda_1[0][0]                   \n",
            "                                                                 input_gt_masks[0][0]             \n",
            "__________________________________________________________________________________________________\n",
            "input_image_meta (InputLayer)   (None, 16)           0                                            \n",
            "__________________________________________________________________________________________________\n",
            "roi_align_mask (PyramidROIAlign (None, 200, 14, 14,  0           proposal_targets[0][0]           \n",
            "                                                                 input_image_meta[0][0]           \n",
            "                                                                 fpn_p2[0][0]                     \n",
            "                                                                 fpn_p3[0][0]                     \n",
            "                                                                 fpn_p4[0][0]                     \n",
            "                                                                 fpn_p5[0][0]                     \n",
            "__________________________________________________________________________________________________\n",
            "mrcnn_mask_conv1 (TimeDistribut (None, 200, 14, 14,  590080      roi_align_mask[0][0]             \n",
            "__________________________________________________________________________________________________\n",
            "mrcnn_mask_bn1 (TimeDistributed (None, 200, 14, 14,  1024        mrcnn_mask_conv1[0][0]           \n",
            "__________________________________________________________________________________________________\n",
            "activation_71 (Activation)      (None, 200, 14, 14,  0           mrcnn_mask_bn1[0][0]             \n",
            "__________________________________________________________________________________________________\n",
            "mrcnn_mask_conv2 (TimeDistribut (None, 200, 14, 14,  590080      activation_71[0][0]              \n",
            "__________________________________________________________________________________________________\n",
            "roi_align_classifier (PyramidRO (None, 200, 7, 7, 25 0           proposal_targets[0][0]           \n",
            "                                                                 input_image_meta[0][0]           \n",
            "                                                                 fpn_p2[0][0]                     \n",
            "                                                                 fpn_p3[0][0]                     \n",
            "                                                                 fpn_p4[0][0]                     \n",
            "                                                                 fpn_p5[0][0]                     \n",
            "__________________________________________________________________________________________________\n",
            "mrcnn_mask_bn2 (TimeDistributed (None, 200, 14, 14,  1024        mrcnn_mask_conv2[0][0]           \n",
            "__________________________________________________________________________________________________\n",
            "mrcnn_class_conv1 (TimeDistribu (None, 200, 1, 1, 10 12846080    roi_align_classifier[0][0]       \n",
            "__________________________________________________________________________________________________\n",
            "activation_72 (Activation)      (None, 200, 14, 14,  0           mrcnn_mask_bn2[0][0]             \n",
            "__________________________________________________________________________________________________\n",
            "mrcnn_class_bn1 (TimeDistribute (None, 200, 1, 1, 10 4096        mrcnn_class_conv1[0][0]          \n",
            "__________________________________________________________________________________________________\n",
            "mrcnn_mask_conv3 (TimeDistribut (None, 200, 14, 14,  590080      activation_72[0][0]              \n",
            "__________________________________________________________________________________________________\n",
            "activation_68 (Activation)      (None, 200, 1, 1, 10 0           mrcnn_class_bn1[0][0]            \n",
            "__________________________________________________________________________________________________\n",
            "mrcnn_mask_bn3 (TimeDistributed (None, 200, 14, 14,  1024        mrcnn_mask_conv3[0][0]           \n",
            "__________________________________________________________________________________________________\n",
            "mrcnn_class_conv2 (TimeDistribu (None, 200, 1, 1, 10 1049600     activation_68[0][0]              \n",
            "__________________________________________________________________________________________________\n",
            "activation_73 (Activation)      (None, 200, 14, 14,  0           mrcnn_mask_bn3[0][0]             \n",
            "__________________________________________________________________________________________________\n",
            "mrcnn_class_bn2 (TimeDistribute (None, 200, 1, 1, 10 4096        mrcnn_class_conv2[0][0]          \n",
            "__________________________________________________________________________________________________\n",
            "mrcnn_mask_conv4 (TimeDistribut (None, 200, 14, 14,  590080      activation_73[0][0]              \n",
            "__________________________________________________________________________________________________\n",
            "activation_69 (Activation)      (None, 200, 1, 1, 10 0           mrcnn_class_bn2[0][0]            \n",
            "__________________________________________________________________________________________________\n",
            "mrcnn_mask_bn4 (TimeDistributed (None, 200, 14, 14,  1024        mrcnn_mask_conv4[0][0]           \n",
            "__________________________________________________________________________________________________\n",
            "pool_squeeze (Lambda)           (None, 200, 1024)    0           activation_69[0][0]              \n",
            "__________________________________________________________________________________________________\n",
            "activation_74 (Activation)      (None, 200, 14, 14,  0           mrcnn_mask_bn4[0][0]             \n",
            "__________________________________________________________________________________________________\n",
            "mrcnn_bbox_fc (TimeDistributed) (None, 200, 16)      16400       pool_squeeze[0][0]               \n",
            "__________________________________________________________________________________________________\n",
            "mrcnn_mask_deconv (TimeDistribu (None, 200, 28, 28,  262400      activation_74[0][0]              \n",
            "__________________________________________________________________________________________________\n",
            "rpn_class_logits (Concatenate)  (None, None, 2)      0           rpn_model[1][0]                  \n",
            "                                                                 rpn_model[2][0]                  \n",
            "                                                                 rpn_model[3][0]                  \n",
            "                                                                 rpn_model[4][0]                  \n",
            "                                                                 rpn_model[5][0]                  \n",
            "__________________________________________________________________________________________________\n",
            "mrcnn_class_logits (TimeDistrib (None, 200, 4)       4100        pool_squeeze[0][0]               \n",
            "__________________________________________________________________________________________________\n",
            "mrcnn_bbox (Reshape)            (None, 200, 4, 4)    0           mrcnn_bbox_fc[0][0]              \n",
            "__________________________________________________________________________________________________\n",
            "mrcnn_mask (TimeDistributed)    (None, 200, 28, 28,  1028        mrcnn_mask_deconv[0][0]          \n",
            "__________________________________________________________________________________________________\n",
            "input_rpn_match (InputLayer)    (None, None, 1)      0                                            \n",
            "__________________________________________________________________________________________________\n",
            "input_rpn_bbox (InputLayer)     (None, None, 4)      0                                            \n",
            "__________________________________________________________________________________________________\n",
            "lambda_4 (Lambda)               (None, 4)            0           input_image_meta[0][0]           \n",
            "__________________________________________________________________________________________________\n",
            "mrcnn_class (TimeDistributed)   (None, 200, 4)       0           mrcnn_class_logits[0][0]         \n",
            "__________________________________________________________________________________________________\n",
            "output_rois (Lambda)            (None, 200, 4)       0           proposal_targets[0][0]           \n",
            "__________________________________________________________________________________________________\n",
            "rpn_class_loss (Lambda)         ()                   0           input_rpn_match[0][0]            \n",
            "                                                                 rpn_class_logits[0][0]           \n",
            "__________________________________________________________________________________________________\n",
            "rpn_bbox_loss (Lambda)          ()                   0           input_rpn_bbox[0][0]             \n",
            "                                                                 input_rpn_match[0][0]            \n",
            "                                                                 rpn_bbox[0][0]                   \n",
            "__________________________________________________________________________________________________\n",
            "mrcnn_class_loss (Lambda)       ()                   0           proposal_targets[0][1]           \n",
            "                                                                 mrcnn_class_logits[0][0]         \n",
            "                                                                 lambda_4[0][0]                   \n",
            "__________________________________________________________________________________________________\n",
            "mrcnn_bbox_loss (Lambda)        ()                   0           proposal_targets[0][2]           \n",
            "                                                                 proposal_targets[0][1]           \n",
            "                                                                 mrcnn_bbox[0][0]                 \n",
            "__________________________________________________________________________________________________\n",
            "mrcnn_mask_loss (Lambda)        ()                   0           proposal_targets[0][3]           \n",
            "                                                                 proposal_targets[0][1]           \n",
            "                                                                 mrcnn_mask[0][0]                 \n",
            "==================================================================================================\n",
            "Total params: 63,744,170\n",
            "Trainable params: 63,632,682\n",
            "Non-trainable params: 111,488\n",
            "__________________________________________________________________________________________________\n"
          ]
        }
      ],
      "source": [
        "model = mrcnn.model.MaskRCNN(mode='training', \n",
        "                             model_dir='./log', \n",
        "                             config=CbcConfig)\n",
        "model.keras_model.summary()"
      ]
    },
    {
      "cell_type": "markdown",
      "metadata": {
        "id": "MkjBXDN4X3wx"
      },
      "source": [
        "### 2.4) Download The Pretrained Weights"
      ]
    },
    {
      "cell_type": "code",
      "execution_count": 24,
      "metadata": {
        "colab": {
          "base_uri": "https://localhost:8080/",
          "height": 55
        },
        "id": "bapBeYfJX3wx",
        "outputId": "7cdb6efa-8242-409a-c4da-3c30e3f44067"
      },
      "outputs": [
        {
          "output_type": "execute_result",
          "data": {
            "text/plain": [
              "'import urllib.request\\n\\nurllib.request.urlretrieve(\"https://github.com/matterport/Mask_RCNN/releases/download/v1.0/mask_rcnn_coco.h5\", \"mask_rcnn_coco.h5\")'"
            ],
            "application/vnd.google.colaboratory.intrinsic+json": {
              "type": "string"
            }
          },
          "metadata": {},
          "execution_count": 24
        }
      ],
      "source": [
        "\"\"\"import urllib.request\n",
        "\n",
        "urllib.request.urlretrieve(\"https://github.com/matterport/Mask_RCNN/releases/download/v1.0/mask_rcnn_coco.h5\", \"mask_rcnn_coco.h5\")\"\"\""
      ]
    },
    {
      "cell_type": "markdown",
      "metadata": {
        "id": "1DE47IkJX3wx"
      },
      "source": [
        "#### Load the Weights and Exclude the Top Layers"
      ]
    },
    {
      "cell_type": "code",
      "execution_count": 25,
      "metadata": {
        "colab": {
          "base_uri": "https://localhost:8080/"
        },
        "id": "RnLjnvCWX3wy",
        "outputId": "9c685eb2-d621-4113-da88-3410292d251a"
      },
      "outputs": [
        {
          "output_type": "stream",
          "name": "stdout",
          "text": [
            "Weights loaded!\n"
          ]
        }
      ],
      "source": [
        "model.load_weights(filepath='/content/drive/MyDrive/CBC_Mask_RCNN/mask_rcnn_coco.h5', \n",
        "                   by_name=True, \n",
        "                   exclude=[\"mrcnn_class_logits\", \"mrcnn_bbox_fc\",  \"mrcnn_bbox\", \"mrcnn_mask\"])\n",
        "print(\"Weights loaded!\")"
      ]
    },
    {
      "cell_type": "markdown",
      "metadata": {
        "id": "Nnod4skFX3wz"
      },
      "source": [
        "### 2.5) Train the Model\n",
        "Only the model head is trained."
      ]
    },
    {
      "cell_type": "code",
      "execution_count": null,
      "metadata": {
        "colab": {
          "base_uri": "https://localhost:8080/"
        },
        "id": "mXQN1IGIX3wz",
        "outputId": "30ad9332-1dc2-49f1-dddf-d666ef9da397",
        "scrolled": true
      },
      "outputs": [
        {
          "output_type": "stream",
          "name": "stdout",
          "text": [
            "\n",
            "Starting at epoch 0. LR=0.001\n",
            "\n",
            "Checkpoint Path: //logdir//train/mask_rcnn_cbc_cfg_{epoch:04d}.h5\n",
            "Selecting layers to train\n",
            "fpn_c5p5               (Conv2D)\n",
            "fpn_c4p4               (Conv2D)\n",
            "fpn_c3p3               (Conv2D)\n",
            "fpn_c2p2               (Conv2D)\n",
            "fpn_p5                 (Conv2D)\n",
            "fpn_p2                 (Conv2D)\n",
            "fpn_p3                 (Conv2D)\n",
            "fpn_p4                 (Conv2D)\n",
            "In model:  rpn_model\n",
            "    rpn_conv_shared        (Conv2D)\n",
            "    rpn_class_raw          (Conv2D)\n",
            "    rpn_bbox_pred          (Conv2D)\n",
            "mrcnn_mask_conv1       (TimeDistributed)\n",
            "mrcnn_mask_bn1         (TimeDistributed)\n",
            "mrcnn_mask_conv2       (TimeDistributed)\n",
            "mrcnn_mask_bn2         (TimeDistributed)\n",
            "mrcnn_class_conv1      (TimeDistributed)\n",
            "mrcnn_class_bn1        (TimeDistributed)\n",
            "mrcnn_mask_conv3       (TimeDistributed)\n",
            "mrcnn_mask_bn3         (TimeDistributed)\n",
            "mrcnn_class_conv2      (TimeDistributed)\n",
            "mrcnn_class_bn2        (TimeDistributed)\n",
            "mrcnn_mask_conv4       (TimeDistributed)\n",
            "mrcnn_mask_bn4         (TimeDistributed)\n",
            "mrcnn_bbox_fc          (TimeDistributed)\n",
            "mrcnn_mask_deconv      (TimeDistributed)\n",
            "mrcnn_class_logits     (TimeDistributed)\n",
            "mrcnn_mask             (TimeDistributed)\n"
          ]
        },
        {
          "output_type": "stream",
          "name": "stderr",
          "text": [
            "/usr/local/lib/python3.8/dist-packages/tensorflow/python/framework/indexed_slices.py:433: UserWarning: Converting sparse IndexedSlices to a dense Tensor of unknown shape. This may consume a large amount of memory.\n",
            "  warnings.warn(\n",
            "/usr/local/lib/python3.8/dist-packages/keras/engine/training_generator.py:48: UserWarning: Using a generator with `use_multiprocessing=True` and multiple workers may duplicate your data. Please consider using the `keras.utils.Sequence class.\n",
            "  warnings.warn(\n",
            "WARNING:tensorflow:Model failed to serialize as JSON. Ignoring... cannot pickle '_thread.RLock' object\n"
          ]
        },
        {
          "output_type": "stream",
          "name": "stdout",
          "text": [
            "Epoch 1/100\n",
            "100/100 [==============================] - 6116s 61s/step - loss: 2.9366 - val_loss: 1.7960\n",
            "Epoch 2/100\n",
            " 26/100 [======>.......................] - ETA: 1:02:38 - loss: 1.8004"
          ]
        }
      ],
      "source": [
        "# train weights (output layers or 'heads')\n",
        "model.train(train_set, test_set, learning_rate=CbcConfig.LEARNING_RATE, epochs=100, layers='heads')"
      ]
    },
    {
      "cell_type": "markdown",
      "metadata": {
        "id": "xJnGIgYNX3w0"
      },
      "source": [
        "### 2.6) Save the Trained Weights"
      ]
    },
    {
      "cell_type": "code",
      "execution_count": null,
      "metadata": {
        "id": "BD5N9f7IX3w0"
      },
      "outputs": [],
      "source": [
        "model_path = '/content/drive/MyDrive/CBC_Mask_RCNN/CBC_mask_rcnn_trained.h5'\n",
        "model.keras_model.save_weights(model_path)"
      ]
    },
    {
      "cell_type": "markdown",
      "metadata": {
        "id": "rXwHXrFxX3w0"
      },
      "source": [
        "## 3. Complete Code for Training"
      ]
    },
    {
      "cell_type": "code",
      "execution_count": null,
      "metadata": {
        "id": "sjOnkxQ1X3w1"
      },
      "outputs": [],
      "source": [
        "import mrcnn\n",
        "import mrcnn.utils\n",
        "import mrcnn.config\n",
        "import mrcnn.model\n",
        "\n",
        "import urllib.request\n",
        "\n",
        "import os\n",
        "import xml.etree\n",
        "from numpy import zeros, asarray\n",
        "\n",
        "class KangarooDataset(mrcnn.utils.Dataset):\n",
        "\n",
        "    def load_dataset(self, dataset_dir, is_train=True):\n",
        "        self.add_class(\"dataset\", 1, \"kangaroo\")\n",
        "\n",
        "        images_dir = dataset_dir + '/images/'\n",
        "        annotations_dir = dataset_dir + '/annots/'\n",
        "\n",
        "        for filename in os.listdir(images_dir):\n",
        "            image_id = filename[:-4]\n",
        "\n",
        "            if is_train and int(image_id) >= 150:\n",
        "                continue\n",
        "\n",
        "            if not is_train and int(image_id) < 150:\n",
        "                continue\n",
        "\n",
        "            img_path = images_dir + filename\n",
        "            ann_path = annotations_dir + image_id + '.xml'\n",
        "\n",
        "            self.add_image('dataset', image_id=image_id, path=img_path, annotation=ann_path)\n",
        "\n",
        "    def load_mask(self, image_id):\n",
        "        info = self.image_info[image_id]\n",
        "        path = info['annotation']\n",
        "        boxes, w, h = self.extract_boxes(path)\n",
        "        masks = zeros([h, w, len(boxes)], dtype='uint8')\n",
        "\n",
        "        class_ids = list()\n",
        "        for i in range(len(boxes)):\n",
        "            box = boxes[i]\n",
        "            row_s, row_e = box[1], box[3]\n",
        "            col_s, col_e = box[0], box[2]\n",
        "            masks[row_s:row_e, col_s:col_e, i] = 1\n",
        "            class_ids.append(self.class_names.index('kangaroo'))\n",
        "        return masks, asarray(class_ids, dtype='int32')\n",
        "\n",
        "    # A helper method to extract the bounding boxes from the annotation file\n",
        "    def extract_boxes(self, filename):\n",
        "        tree = xml.etree.ElementTree.parse(filename)\n",
        "\n",
        "        root = tree.getroot()\n",
        "\n",
        "        boxes = list()\n",
        "        for box in root.findall('.//bndbox'):\n",
        "            xmin = int(box.find('xmin').text)\n",
        "            ymin = int(box.find('ymin').text)\n",
        "            xmax = int(box.find('xmax').text)\n",
        "            ymax = int(box.find('ymax').text)\n",
        "            coors = [xmin, ymin, xmax, ymax]\n",
        "            boxes.append(coors)\n",
        "\n",
        "        width = int(root.find('.//size/width').text)\n",
        "        height = int(root.find('.//size/height').text)\n",
        "        return boxes, width, height\n",
        "\n",
        "class KangarooConfig(mrcnn.config.Config):\n",
        "    NAME = \"kangaroo_cfg\"\n",
        "\n",
        "    GPU_COUNT = 1\n",
        "    IMAGES_PER_GPU = 1\n",
        "    \n",
        "    NUM_CLASSES = 2\n",
        "    \n",
        "    LEARNING_RATE = 0.001\n",
        "\n",
        "    STEPS_PER_EPOCH = 131\n",
        "\n",
        "kangaroo_config = KangarooConfig()\n",
        "\n",
        "# Train\n",
        "train_dataset = KangarooDataset()\n",
        "train_dataset.load_dataset(dataset_dir='./kangaroo-transfer-learning/kangaroo', is_train=True)\n",
        "train_dataset.prepare()\n",
        "\n",
        "# Validation\n",
        "validation_dataset = KangarooDataset()\n",
        "validation_dataset.load_dataset(dataset_dir='./kangaroo-transfer-learning/kangaroo', is_train=False)\n",
        "validation_dataset.prepare()\n",
        "\n",
        "model = mrcnn.model.MaskRCNN(mode='training', \n",
        "                             model_dir='./log', \n",
        "                             config=kangaroo_config)\n",
        "model.keras_model.summary()\n",
        "\n",
        "urllib.request.urlretrieve(\"https://github.com/matterport/Mask_RCNN/releases/download/v1.0/mask_rcnn_coco.h5\", \"mask_rcnn_coco.h5\")\n",
        "\n",
        "model.load_weights(filepath='mask_rcnn_coco.h5', \n",
        "                   by_name=True, \n",
        "                   exclude=[\"mrcnn_class_logits\", \"mrcnn_bbox_fc\",  \"mrcnn_bbox\", \"mrcnn_mask\"])\n",
        "print(\"Weights loaded!\")\n",
        "\n",
        "model.train(train_dataset=train_dataset, \n",
        "            val_dataset=validation_dataset, \n",
        "            learning_rate=kangaroo_config.LEARNING_RATE, \n",
        "            epochs=1, \n",
        "            layers='heads')\n",
        "\n",
        "model_path = 'Kangaro_mask_rcnn_trained.h5'\n",
        "model.keras_model.save_weights(model_path)"
      ]
    },
    {
      "cell_type": "markdown",
      "metadata": {
        "id": "Ofv6ymusX3w2"
      },
      "source": [
        "## 4. Make Predictions"
      ]
    },
    {
      "cell_type": "code",
      "execution_count": null,
      "metadata": {
        "id": "fVKFFcK3X3w2"
      },
      "outputs": [],
      "source": [
        "import mrcnn\n",
        "import mrcnn.config\n",
        "import mrcnn.model\n",
        "import mrcnn.visualize\n",
        "import cv2\n",
        "import os\n",
        "\n",
        "CLASS_NAMES = ['BG','WBC', 'RBC', 'Platelet']\n",
        "\n",
        "class PredictionConfig(mrcnn.config.Config):\n",
        "    NAME = \"cbc_cfg\"\n",
        "    \n",
        "    GPU_COUNT = 1\n",
        "    IMAGES_PER_GPU = 1\n",
        "\n",
        "    NUM_CLASSES = len(CLASS_NAMES)\n",
        "\n",
        "model = mrcnn.model.MaskRCNN(mode=\"inference\", \n",
        "                             config=PredictionConfig(),\n",
        "                             model_dir=os.getcwd())\n",
        "\n",
        "model.load_weights(filepath=\"/content/drive/MyDrive/CBC_Mask_RCNN/CBC_mask_rcnn_trained.h5\", \n",
        "                   by_name=True)\n",
        "\n",
        "image = cv2.imread(\"/content/drive/MyDrive/BCCD_Dataset/BCCD/JPEGImages/361.jpg\")\n",
        "image = cv2.cvtColor(image, cv2.COLOR_BGR2RGB)\n",
        "\n",
        "r = model.detect([image], verbose=0)\n",
        "\n",
        "r = r[0]\n",
        "\n",
        "mrcnn.visualize.display_instances(image=image, \n",
        "                                  boxes=r['rois'], \n",
        "                                  masks=r['masks'], \n",
        "                                  class_ids=r['class_ids'], \n",
        "                                  class_names=CLASS_NAMES, \n",
        "                                  scores=r['scores'])"
      ]
    }
  ],
  "metadata": {
    "accelerator": "GPU",
    "colab": {
      "collapsed_sections": [
        "rXwHXrFxX3w0"
      ],
      "provenance": [],
      "include_colab_link": true
    },
    "gpuClass": "standard",
    "kernelspec": {
      "display_name": "Python 3",
      "language": "python",
      "name": "python3"
    },
    "language_info": {
      "codemirror_mode": {
        "name": "ipython",
        "version": 3
      },
      "file_extension": ".py",
      "mimetype": "text/x-python",
      "name": "python",
      "nbconvert_exporter": "python",
      "pygments_lexer": "ipython3",
      "version": "3.6.9"
    }
  },
  "nbformat": 4,
  "nbformat_minor": 0
}